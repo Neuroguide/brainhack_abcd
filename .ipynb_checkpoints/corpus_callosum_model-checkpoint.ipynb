{
 "cells": [
  {
   "cell_type": "code",
   "execution_count": 1,
   "metadata": {
    "collapsed": true
   },
   "outputs": [],
   "source": [
    "import numpy as np \n",
    "import pandas as pd \n",
    "import matplotlib.pyplot as plt \n",
    "%matplotlib inline"
   ]
  },
  {
   "cell_type": "code",
   "execution_count": 64,
   "metadata": {
    "collapsed": false
   },
   "outputs": [
    {
     "name": "stdout",
     "output_type": "stream",
     "text": [
      "Index(['collection_id\\t\"btsv01_id\"\\t\"dataset_id\"\\t\"subjectkey\"\\t\"src_subject_id\"\\t\"interview_date\"\\t\"interview_age\"\\t\"gender\"\\t\"sri24precentrallgm\"\\t\"sri24precentralrgm\"\\t\"sri24frontalsuplgm\"\\t\"sri24frontalsuprgm\"\\t\"sri24frontalsuporblgm\"\\t\"sri24frontalsuporbrgm\"\\t\"sri24frontalmidlgm\"\\t\"sri24frontalmidrgm\"\\t\"sri24frontalmidorblgm\"\\t\"sri24frontalmidorbrgm\"\\t\"sri24frontalinfoperlgm\"\\t\"sri24frontalinfoperrgm\"\\t\"sri24frontalinftrilgm\"\\t\"sri24frontalinftrirgm\"\\t\"sri24frontalinforblgm\"\\t\"sri24frontalinforbrgm\"\\t\"sri24rolandicoperlgm\"\\t\"sri24rolandicoperrgm\"\\t\"sri24suppmotorarealgm\"\\t\"sri24suppmotorareargm\"\\t\"sri24olfactorylgm\"\\t\"sri24olfactoryrgm\"\\t\"sri24frontalsupmediallgm\"\\t\"sri24frontalsupmedialrgm\"\\t\"sri24frontalmedorblgm\"\\t\"sri24frontalmedorbrgm\"\\t\"sri24rectuslgm\"\\t\"sri24rectusrgm\"\\t\"sri24insulalgm\"\\t\"sri24insulargm\"\\t\"sri24cingulumantlgm\"\\t\"sri24cingulumantrgm\"\\t\"sri24cingulummidlgm\"\\t\"sri24cingulummidrgm\"\\t\"sri24cingulumpostlgm\"\\t\"sri24cingulumpostrgm\"\\t\"sri24hippocampuslgm\"\\t\"sri24hippocampusrgm\"\\t\"sri24parahippocampallgm\"\\t\"sri24parahippocampalrgm\"\\t\"sri24amygdalalgm\"\\t\"sri24amygdalargm\"\\t\"sri24calcarinelgm\"\\t\"sri24calcarinergm\"\\t\"sri24cuneuslgm\"\\t\"sri24cuneusrgm\"\\t\"sri24linguallgm\"\\t\"sri24lingualrgm\"\\t\"sri24occipitalsuplgm\"\\t\"sri24occipitalsuprgm\"\\t\"sri24occipitalmidlgm\"\\t\"sri24occipitalmidrgm\"\\t\"sri24occipitalinflgm\"\\t\"sri24occipitalinfrgm\"\\t\"sri24fusiformlgm\"\\t\"sri24fusiformrgm\"\\t\"sri24postcentrallgm\"\\t\"sri24postcentralrgm\"\\t\"sri24parietalsuplgm\"\\t\"sri24parietalsuprgm\"\\t\"sri24parietalinflgm\"\\t\"sri24parietalinfrgm\"\\t\"sri24supramarginallgm\"\\t\"sri24supramarginalrgm\"\\t\"sri24angularlgm\"\\t\"sri24angularrgm\"\\t\"sri24precuneuslgm\"\\t\"sri24precuneusrgm\"\\t\"sri24paracentrallobulelgm\"\\t\"sri24paracentrallobulergm\"\\t\"sri24caudatelgm\"\\t\"sri24caudatergm\"\\t\"sri24putamenlgm\"\\t\"sri24putamenrgm\"\\t\"sri24pallidumlgm\"\\t\"sri24pallidumrgm\"\\t\"sri24thalamuslgm\"\\t\"sri24thalamusrgm\"\\t\"sri24heschllgm\"\\t\"sri24heschlrgm\"\\t\"sri24temporalsuplgm\"\\t\"sri24temporalsuprgm\"\\t\"sri24temporalpolesuplgm\"\\t\"sri24temporalpolesuprgm\"\\t\"sri24temporalmidlgm\"\\t\"sri24temporalmidrgm\"\\t\"sri24temporalpolemidlgm\"\\t\"sri24temporalpolemidrgm\"\\t\"sri24temporalinflgm\"\\t\"sri24temporalinfrgm\"\\t\"sri24cerebelumcrus1lvolume\"\\t\"sri24cerebelumcrus1rvolume\"\\t\"sri24cerebelumcrus2lvolume\"\\t\"sri24cerebelumcrus2rvolume\"\\t\"sri24cerebelum3lvolume\"\\t\"sri24cerebelum3rvolume\"\\t\"sri24cerebelum45lvolume\"\\t\"sri24cerebelum45rvolume\"\\t\"sri24cerebelum6lvolume\"\\t\"sri24cerebelum6rvolume\"\\t\"sri24cerebelum7blvolume\"\\t\"sri24cerebelum7brvolume\"\\t\"sri24cerebelum8lvolume\"\\t\"sri24cerebelum8rvolume\"\\t\"sri24cerebelum9lvolume\"\\t\"sri24cerebelum9rvolume\"\\t\"sri24cerebelum10lvolume\"\\t\"sri24cerebelum10rvolume\"\\t\"sri24vermis1gm\"\\t\"sri24vermis2gm\"\\t\"sri24vermis3gm\"\\t\"sri24cblmhemiwhtlwm\"\\t\"sri24cblmhemiwhtrwm\"\\t\"sri24ponswm\"\\t\"sri24corpuscallosumwm\"\\t\"sri24wm400wm400lwm\"\\t\"sri24wm400wm400rwm\"\\t\"sri24vtlslateralvtllcsf\"\\t\"sri24vtlslateralvtlrcsf\"\\t\"sri24vtlsthirdvtllcsf\"\\t\"sri24vtlsthirdvtlrcsf\"\\t\"sri24suptentsupratentoriumv\"\\t\"collection_title\"'], dtype='object')\n"
     ]
    },
    {
     "ename": "KeyError",
     "evalue": "'subjectkey'",
     "output_type": "error",
     "traceback": [
      "\u001b[0;31m---------------------------------------------------------------------------\u001b[0m",
      "\u001b[0;31mKeyError\u001b[0m                                  Traceback (most recent call last)",
      "\u001b[0;32m<ipython-input-64-a2ec1114d2a1>\u001b[0m in \u001b[0;36m<module>\u001b[0;34m()\u001b[0m\n\u001b[1;32m      8\u001b[0m \u001b[0;34m\u001b[0m\u001b[0m\n\u001b[1;32m      9\u001b[0m \u001b[0;32mif\u001b[0m \u001b[0mmerge_with_description\u001b[0m\u001b[0;34m:\u001b[0m\u001b[0;34m\u001b[0m\u001b[0m\n\u001b[0;32m---> 10\u001b[0;31m     \u001b[0mraw_training_data\u001b[0m \u001b[0;34m=\u001b[0m \u001b[0mpd\u001b[0m\u001b[0;34m.\u001b[0m\u001b[0mmerge\u001b[0m\u001b[0;34m(\u001b[0m\u001b[0mraw_training_data\u001b[0m\u001b[0;34m,\u001b[0m \u001b[0mraw_description_data\u001b[0m\u001b[0;34m,\u001b[0m \u001b[0mleft_on\u001b[0m\u001b[0;34m=\u001b[0m\u001b[0;34m'subject'\u001b[0m\u001b[0;34m,\u001b[0m \u001b[0mright_on\u001b[0m\u001b[0;34m=\u001b[0m\u001b[0;34m'subjectkey'\u001b[0m\u001b[0;34m)\u001b[0m\u001b[0;34m\u001b[0m\u001b[0m\n\u001b[0m\u001b[1;32m     11\u001b[0m     \u001b[0mraw_training_data\u001b[0m \u001b[0;34m=\u001b[0m \u001b[0mraw_training_data\u001b[0m\u001b[0;34m.\u001b[0m\u001b[0mdrop\u001b[0m\u001b[0;34m(\u001b[0m\u001b[0;34m[\u001b[0m\u001b[0;36m0\u001b[0m\u001b[0;34m]\u001b[0m\u001b[0;34m,\u001b[0m \u001b[0maxis\u001b[0m\u001b[0;34m=\u001b[0m\u001b[0;36m0\u001b[0m\u001b[0;34m)\u001b[0m\u001b[0;34m\u001b[0m\u001b[0m\n\u001b[1;32m     12\u001b[0m     \u001b[0mprint\u001b[0m\u001b[0;34m(\u001b[0m\u001b[0mraw_training_data\u001b[0m\u001b[0;34m.\u001b[0m\u001b[0mhead\u001b[0m\u001b[0;34m(\u001b[0m\u001b[0;34m)\u001b[0m\u001b[0;34m)\u001b[0m\u001b[0;34m\u001b[0m\u001b[0m\n",
      "\u001b[0;32m/Users/admin/anaconda/lib/python3.5/site-packages/pandas/core/reshape/merge.py\u001b[0m in \u001b[0;36mmerge\u001b[0;34m(left, right, how, on, left_on, right_on, left_index, right_index, sort, suffixes, copy, indicator, validate)\u001b[0m\n\u001b[1;32m     59\u001b[0m                          \u001b[0mright_index\u001b[0m\u001b[0;34m=\u001b[0m\u001b[0mright_index\u001b[0m\u001b[0;34m,\u001b[0m \u001b[0msort\u001b[0m\u001b[0;34m=\u001b[0m\u001b[0msort\u001b[0m\u001b[0;34m,\u001b[0m \u001b[0msuffixes\u001b[0m\u001b[0;34m=\u001b[0m\u001b[0msuffixes\u001b[0m\u001b[0;34m,\u001b[0m\u001b[0;34m\u001b[0m\u001b[0m\n\u001b[1;32m     60\u001b[0m                          \u001b[0mcopy\u001b[0m\u001b[0;34m=\u001b[0m\u001b[0mcopy\u001b[0m\u001b[0;34m,\u001b[0m \u001b[0mindicator\u001b[0m\u001b[0;34m=\u001b[0m\u001b[0mindicator\u001b[0m\u001b[0;34m,\u001b[0m\u001b[0;34m\u001b[0m\u001b[0m\n\u001b[0;32m---> 61\u001b[0;31m                          validate=validate)\n\u001b[0m\u001b[1;32m     62\u001b[0m     \u001b[0;32mreturn\u001b[0m \u001b[0mop\u001b[0m\u001b[0;34m.\u001b[0m\u001b[0mget_result\u001b[0m\u001b[0;34m(\u001b[0m\u001b[0;34m)\u001b[0m\u001b[0;34m\u001b[0m\u001b[0m\n\u001b[1;32m     63\u001b[0m \u001b[0;34m\u001b[0m\u001b[0m\n",
      "\u001b[0;32m/Users/admin/anaconda/lib/python3.5/site-packages/pandas/core/reshape/merge.py\u001b[0m in \u001b[0;36m__init__\u001b[0;34m(self, left, right, how, on, left_on, right_on, axis, left_index, right_index, sort, suffixes, copy, indicator, validate)\u001b[0m\n\u001b[1;32m    549\u001b[0m         (self.left_join_keys,\n\u001b[1;32m    550\u001b[0m          \u001b[0mself\u001b[0m\u001b[0;34m.\u001b[0m\u001b[0mright_join_keys\u001b[0m\u001b[0;34m,\u001b[0m\u001b[0;34m\u001b[0m\u001b[0m\n\u001b[0;32m--> 551\u001b[0;31m          self.join_names) = self._get_merge_keys()\n\u001b[0m\u001b[1;32m    552\u001b[0m \u001b[0;34m\u001b[0m\u001b[0m\n\u001b[1;32m    553\u001b[0m         \u001b[0;31m# validate the merge keys dtypes. We may need to coerce\u001b[0m\u001b[0;34m\u001b[0m\u001b[0;34m\u001b[0m\u001b[0m\n",
      "\u001b[0;32m/Users/admin/anaconda/lib/python3.5/site-packages/pandas/core/reshape/merge.py\u001b[0m in \u001b[0;36m_get_merge_keys\u001b[0;34m(self)\u001b[0m\n\u001b[1;32m    855\u001b[0m                             right_keys.append(\n\u001b[1;32m    856\u001b[0m                                 right._get_label_or_level_values(\n\u001b[0;32m--> 857\u001b[0;31m                                     rk, stacklevel=stacklevel))\n\u001b[0m\u001b[1;32m    858\u001b[0m                         \u001b[0;32melse\u001b[0m\u001b[0;34m:\u001b[0m\u001b[0;34m\u001b[0m\u001b[0m\n\u001b[1;32m    859\u001b[0m                             \u001b[0;31m# work-around for merge_asof(right_index=True)\u001b[0m\u001b[0;34m\u001b[0m\u001b[0;34m\u001b[0m\u001b[0m\n",
      "\u001b[0;32m/Users/admin/anaconda/lib/python3.5/site-packages/pandas/core/generic.py\u001b[0m in \u001b[0;36m_get_label_or_level_values\u001b[0;34m(self, key, axis, stacklevel)\u001b[0m\n\u001b[1;32m   1380\u001b[0m             \u001b[0mvalues\u001b[0m \u001b[0;34m=\u001b[0m \u001b[0mself\u001b[0m\u001b[0;34m.\u001b[0m\u001b[0maxes\u001b[0m\u001b[0;34m[\u001b[0m\u001b[0maxis\u001b[0m\u001b[0;34m]\u001b[0m\u001b[0;34m.\u001b[0m\u001b[0mget_level_values\u001b[0m\u001b[0;34m(\u001b[0m\u001b[0mkey\u001b[0m\u001b[0;34m)\u001b[0m\u001b[0;34m.\u001b[0m\u001b[0m_values\u001b[0m\u001b[0;34m\u001b[0m\u001b[0m\n\u001b[1;32m   1381\u001b[0m         \u001b[0;32melse\u001b[0m\u001b[0;34m:\u001b[0m\u001b[0;34m\u001b[0m\u001b[0m\n\u001b[0;32m-> 1382\u001b[0;31m             \u001b[0;32mraise\u001b[0m \u001b[0mKeyError\u001b[0m\u001b[0;34m(\u001b[0m\u001b[0mkey\u001b[0m\u001b[0;34m)\u001b[0m\u001b[0;34m\u001b[0m\u001b[0m\n\u001b[0m\u001b[1;32m   1383\u001b[0m \u001b[0;34m\u001b[0m\u001b[0m\n\u001b[1;32m   1384\u001b[0m         \u001b[0;31m# Check for duplicates\u001b[0m\u001b[0;34m\u001b[0m\u001b[0;34m\u001b[0m\u001b[0m\n",
      "\u001b[0;31mKeyError\u001b[0m: 'subjectkey'"
     ]
    }
   ],
   "source": [
    "raw_training_data = pd.read_csv('./data/results_training_v3.csv')\n",
    "raw_labels = pd.read_csv('./data/training_fluid_intelligenceV1.csv')\n",
    "raw_description_data = pd.read_csv('./data/btsv01.txt', sep='\\t')\n",
    "merge_with_description = True\n",
    "#now we merge it \n",
    "\n",
    "print(raw_description_data.columns)\n",
    "\n",
    "if merge_with_description: \n",
    "    raw_training_data = pd.merge(raw_training_data, raw_description_data, left_on='subject', right_on='subjectkey')\n",
    "    raw_training_data = raw_training_data.drop([0], axis=0)\n",
    "    print(raw_training_data.head())\n",
    "    raw_training_data = raw_training_data.drop(['btsv01_id', 'interview_date', 'collection_id', \\\n",
    "                              'dataset_id', 'collection_title', 'src_subject_id', 'gender', 'subjectkey'], axis=1)\n",
    "\n",
    "train_data_with_labels = pd.merge(raw_training_data, raw_labels, on='subject')\n",
    "labels = train_data_with_labels['residual_fluid_intelligence_score']\n",
    "\n",
    "\n",
    "train_data = train_data_with_labels.drop(['subject', 'residual_fluid_intelligence_score'], axis=1)\n",
    "print(train_data.columns)"
   ]
  },
  {
   "cell_type": "code",
   "execution_count": 30,
   "metadata": {
    "collapsed": false
   },
   "outputs": [
    {
     "data": {
      "text/plain": [
       "set()"
      ]
     },
     "execution_count": 30,
     "metadata": {},
     "output_type": "execute_result"
    }
   ],
   "source": [
    "#val data - no testing data, so we need to do cross-val \n",
    "raw_val_data = pd.read_csv('./data/cc_testing_v2.csv')\n",
    "val_labels = pd.read_csv('./data/validation_fluid_intelligenceV1.csv')"
   ]
  },
  {
   "cell_type": "code",
   "execution_count": 31,
   "metadata": {
    "collapsed": false
   },
   "outputs": [],
   "source": [
    "#first convert to matrix and normalize data\n",
    "def normalize_data(data: np.array, standardize=True):\n",
    "    means = np.mean(data, axis=0)\n",
    "    stds = np.std(data, axis=0)\n",
    "    if not standardize:\n",
    "        return data-means\n",
    "    return (data-means)/stds\n",
    "\n",
    "train_data = normalize_data(train_data.values.astype(float))"
   ]
  },
  {
   "cell_type": "code",
   "execution_count": 59,
   "metadata": {
    "collapsed": false
   },
   "outputs": [],
   "source": [
    "#now explore the models and cross-val \n",
    "from sklearn.model_selection import cross_validate\n",
    "def mse(real, pred):\n",
    "    print(real.shape, pred.shape)\n",
    "    return np.mean(np.square(real-pred))\n",
    "\n",
    "def run_crossval(clf, X, y,n_cv=3):\n",
    "    cv_scores = cross_validate(clf, X,y, cv=n_cv, scoring='neg_mean_squared_error')\n",
    "    return cv_scores"
   ]
  },
  {
   "cell_type": "code",
   "execution_count": 57,
   "metadata": {
    "collapsed": false
   },
   "outputs": [
    {
     "name": "stderr",
     "output_type": "stream",
     "text": [
      "/Users/admin/anaconda/lib/python3.5/site-packages/sklearn/utils/deprecation.py:122: FutureWarning: You are accessing a training score ('train_score'), which will not be available by default any more in 0.21. If you need training scores, please set return_train_score=True\n",
      "  warnings.warn(*warn_args, **warn_kwargs)\n"
     ]
    },
    {
     "data": {
      "text/plain": [
       "{'fit_time': array([0.34050202, 0.31637597, 0.30455208]),\n",
       " 'score_time': array([0.1053679 , 0.11609197, 0.11296201]),\n",
       " 'test_score': array([-85.76793082, -88.21633847, -85.65408316]),\n",
       " 'train_score': array([-83.77231482, -82.56715721, -83.63176771])}"
      ]
     },
     "execution_count": 57,
     "metadata": {},
     "output_type": "execute_result"
    }
   ],
   "source": [
    "from sklearn.svm import SVR \n",
    "\n",
    "svr = SVR()\n",
    "\n",
    "run_crossval(svr, train_data, labels, 3)"
   ]
  },
  {
   "cell_type": "code",
   "execution_count": 58,
   "metadata": {
    "collapsed": true
   },
   "outputs": [],
   "source": [
    "from sklearn.model_selection import train_test_split\n",
    "X_train, X_test, y_train, y_test = train_test_split(train_data, labels, test_size=0.2)\n",
    "svr.fit(X_train, y_train)\n",
    "xxx= svr.predict(X_test)\n",
    "mse(y_test, xxx)"
   ]
  },
  {
   "cell_type": "code",
   "execution_count": 60,
   "metadata": {
    "collapsed": false
   },
   "outputs": [
    {
     "name": "stdout",
     "output_type": "stream",
     "text": [
      "(745,) (745,)\n"
     ]
    },
    {
     "data": {
      "text/plain": [
       "86.02441155976358"
      ]
     },
     "execution_count": 60,
     "metadata": {},
     "output_type": "execute_result"
    }
   ],
   "source": []
  },
  {
   "cell_type": "code",
   "execution_count": null,
   "metadata": {
    "collapsed": true
   },
   "outputs": [],
   "source": []
  }
 ],
 "metadata": {
  "kernelspec": {
   "display_name": "Python [Root]",
   "language": "python",
   "name": "Python [Root]"
  },
  "language_info": {
   "codemirror_mode": {
    "name": "ipython",
    "version": 3
   },
   "file_extension": ".py",
   "mimetype": "text/x-python",
   "name": "python",
   "nbconvert_exporter": "python",
   "pygments_lexer": "ipython3",
   "version": "3.5.2"
  }
 },
 "nbformat": 4,
 "nbformat_minor": 0
}
