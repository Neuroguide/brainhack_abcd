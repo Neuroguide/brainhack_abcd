{
 "cells": [
  {
   "cell_type": "code",
   "execution_count": 1,
   "metadata": {
    "collapsed": true
   },
   "outputs": [],
   "source": [
    "import numpy as np \n",
    "import pandas as pd \n",
    "import matplotlib.pyplot as plt \n",
    "%matplotlib inline"
   ]
  },
  {
   "cell_type": "code",
   "execution_count": 2,
   "metadata": {
    "collapsed": false
   },
   "outputs": [
    {
     "name": "stderr",
     "output_type": "stream",
     "text": [
      "/Users/admin/anaconda/lib/python3.5/site-packages/IPython/core/interactiveshell.py:2723: DtypeWarning: Columns (0,1,2,6,8,9,10,11,12,13,14,15,16,17,18,19,20,21,22,23,24,25,26,27,28,29,30,31,32,33,34,35,36,37,38,39,40,41,42,43,44,45,46,47,48,49,50,51,52,53,54,55,56,57,58,59,60,61,62,63,64,65,66,67,68,69,70,71,72,73,74,75,76,77,78,79,80,81,82,83,84,85,86,87,88,89,90,91,92,93,94,95,96,97,98,99,100,101,102,103,104,105,106,107,108,109,110,111,112,113,114,115,116,117,118,119,120,121,122,123,124,125,126,127,128,129) have mixed types. Specify dtype option on import or set low_memory=False.\n",
      "  interactivity=interactivity, compiler=compiler, result=result)\n"
     ]
    },
    {
     "name": "stdout",
     "output_type": "stream",
     "text": [
      "Dataset shape: (7803, 131)\n",
      "Labels train shape: (3739, 2)\n",
      "Labels val shape: (415, 2)\n"
     ]
    }
   ],
   "source": [
    "data_filename = 'data/btsv01.txt'\n",
    "rois = pd.read_csv(data_filename, delim_whitespace=True)\n",
    "labels_train_filename = 'data/training_fluid_intelligenceV1.csv'\n",
    "labels_val_filename = 'data/validation_fluid_intelligenceV1.csv'\n",
    "labels_train = pd.read_csv(labels_train_filename, sep=',')\n",
    "labels_val = pd.read_csv(labels_val_filename, sep=',')\n",
    "print(\"Dataset shape: {}\".format(rois.shape))\n",
    "print(\"Labels train shape: {}\".format(labels_train.shape))\n",
    "print(\"Labels val shape: {}\".format(labels_val.shape))"
   ]
  },
  {
   "cell_type": "code",
   "execution_count": 14,
   "metadata": {
    "collapsed": false
   },
   "outputs": [],
   "source": [
    "columns_description = rois.iloc[0]\n",
    "#delete the row with description of the columns from data\n",
    "rois_clean = rois.drop(rois.index[[0]])"
   ]
  },
  {
   "cell_type": "code",
   "execution_count": 4,
   "metadata": {
    "collapsed": false
   },
   "outputs": [
    {
     "name": "stdout",
     "output_type": "stream",
     "text": [
      "Number of rows: 7802\n",
      "Number of columns: 131\n"
     ]
    }
   ],
   "source": [
    "print(\"Number of rows: {}\".format(rois_clean.shape[0]))\n",
    "print(\"Number of columns: {}\".format(rois_clean.shape[1]))"
   ]
  },
  {
   "cell_type": "markdown",
   "metadata": {},
   "source": [
    "Here, we will explore the the types of columns to see whether we can skip anything and to get some overview of the data. \n",
    "- btsv01_id- all unique values (1 per row) - don't tell us anything; they are descriptive \n",
    "- interview_date - the date when the interview was performed - also useless \n",
    "- collection_id / dataset_id - identification of the collection/dataset - useless\n",
    "- collection_title - useless\n",
    "\n",
    "In general, we have one row per participant."
   ]
  },
  {
   "cell_type": "code",
   "execution_count": 5,
   "metadata": {
    "collapsed": false
   },
   "outputs": [
    {
     "data": {
      "text/plain": [
       "3739"
      ]
     },
     "execution_count": 5,
     "metadata": {},
     "output_type": "execute_result"
    }
   ],
   "source": [
    "len(set(labels_train['subject']).intersection(set(rois_clean['subjectkey'])))"
   ]
  },
  {
   "cell_type": "markdown",
   "metadata": {},
   "source": [
    "Now, we found that our labels with residual fluid intelligence scores are a subset of values in a column 'subjectkey'.\n",
    "We are constructing a training set, therefore in the training set we will only consider those entries that also have labels. <br>\n",
    "Furthermore, we are eliminating the following columns: \n",
    "- btsv01_id\n",
    "- interview_date\n",
    "- collection_id\n",
    "- dataset_id\n",
    "- collection_title\n",
    "- src_subject_id (which is the repetition of subjectkey, but with lowercase letters (for some mysterious reason))"
   ]
  },
  {
   "cell_type": "code",
   "execution_count": 6,
   "metadata": {
    "collapsed": false
   },
   "outputs": [],
   "source": [
    "rois_clean = rois_clean.drop(['btsv01_id', 'interview_date', 'collection_id', \\\n",
    "                              'dataset_id', 'collection_title', 'src_subject_id'], axis=1)"
   ]
  },
  {
   "cell_type": "code",
   "execution_count": 7,
   "metadata": {
    "collapsed": false
   },
   "outputs": [],
   "source": [
    "#now we are changing the string values of gender to number\n",
    "gender_to_int = {\n",
    "    'M': 0,\n",
    "    'F': 1\n",
    "}\n",
    "\n",
    "rois_clean['gender'] = rois_clean['gender'].apply(lambda x: gender_to_int[x])"
   ]
  },
  {
   "cell_type": "code",
   "execution_count": 8,
   "metadata": {
    "collapsed": false
   },
   "outputs": [],
   "source": [
    "train_data = rois_clean[rois_clean['subjectkey'].isin(labels_train['subject'])]\n",
    "val_data = rois_clean[rois_clean['subjectkey'].isin(labels_val['subject'])]"
   ]
  },
  {
   "cell_type": "code",
   "execution_count": 9,
   "metadata": {
    "collapsed": false
   },
   "outputs": [],
   "source": [
    "train_data_labels = pd.merge(train_data, labels_train, left_on='subjectkey', right_on='subject').drop(['subject'], axis=1)\n",
    "val_data_labels = pd.merge(val_data, labels_val, left_on='subjectkey', right_on='subject').drop(['subject'], axis=1)"
   ]
  },
  {
   "cell_type": "code",
   "execution_count": 10,
   "metadata": {
    "collapsed": false
   },
   "outputs": [
    {
     "data": {
      "text/plain": [
       "(3739, 126)"
      ]
     },
     "execution_count": 10,
     "metadata": {},
     "output_type": "execute_result"
    }
   ],
   "source": [
    "train_data_labels.shape"
   ]
  },
  {
   "cell_type": "code",
   "execution_count": 11,
   "metadata": {
    "collapsed": false
   },
   "outputs": [],
   "source": [
    "#here we will construct a matrix only with data - without labels\n",
    "#the first column is identification - it is a string and we want to delete it. Other columns are identified as string,\n",
    "#but we want to convert it to floats and to the matrix\n",
    "train_data_matrix = train_data_labels.values[:, 1:-1].astype(np.float)\n",
    "val_data_matrix = val_data_labels.values[:, 1:-1].astype(np.float)"
   ]
  },
  {
   "cell_type": "code",
   "execution_count": 12,
   "metadata": {
    "collapsed": false
   },
   "outputs": [],
   "source": [
    "#now for the final form - train_data/val_data will be our matrices; train_labels, val_labels will be our residuals\n",
    "\n",
    "train_data = train_data_matrix\n",
    "val_data = val_data_matrix\n",
    "\n",
    "train_labels = train_data_labels.values[:,-1].astype(np.float)\n",
    "val_labels = val_data_labels.values[:,-1].astype(np.float)\n",
    "\n",
    "column"
   ]
  },
  {
   "cell_type": "code",
   "execution_count": 13,
   "metadata": {
    "collapsed": false
   },
   "outputs": [
    {
     "data": {
      "text/plain": [
       "3739"
      ]
     },
     "execution_count": 13,
     "metadata": {},
     "output_type": "execute_result"
    }
   ],
   "source": [
    "len(train_labels)"
   ]
  },
  {
   "cell_type": "code",
   "execution_count": null,
   "metadata": {
    "collapsed": true
   },
   "outputs": [],
   "source": []
  }
 ],
 "metadata": {
  "kernelspec": {
   "display_name": "Python [Root]",
   "language": "python",
   "name": "Python [Root]"
  },
  "language_info": {
   "codemirror_mode": {
    "name": "ipython",
    "version": 3
   },
   "file_extension": ".py",
   "mimetype": "text/x-python",
   "name": "python",
   "nbconvert_exporter": "python",
   "pygments_lexer": "ipython3",
   "version": "3.5.2"
  }
 },
 "nbformat": 4,
 "nbformat_minor": 0
}
