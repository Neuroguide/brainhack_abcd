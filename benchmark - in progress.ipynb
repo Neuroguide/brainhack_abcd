{
 "cells": [
  {
   "cell_type": "code",
   "execution_count": 1,
   "metadata": {
    "collapsed": true
   },
   "outputs": [],
   "source": [
    "import numpy as np \n",
    "import pandas as pd \n",
    "import matplotlib.pyplot as plt\n",
    "%matplotlib inline\n",
    "from utils.data_loader import Dataset\n",
    "from utils.helpers import * \n",
    "\n",
    "from sklearn.svm import SVR \n",
    "import xgboost\n",
    "from sklearn.ensemble import RandomForestRegressor"
   ]
  },
  {
   "cell_type": "markdown",
   "metadata": {},
   "source": [
    "## TODO:\n",
    "1. create a benchmark for comparing the results \n",
    "2. measure the importance of features based on "
   ]
  },
  {
   "cell_type": "code",
   "execution_count": 2,
   "metadata": {
    "collapsed": false
   },
   "outputs": [
    {
     "name": "stderr",
     "output_type": "stream",
     "text": [
      "/Users/admin/anaconda/lib/python3.5/site-packages/IPython/core/interactiveshell.py:2885: DtypeWarning: Columns (0,1,2,6,8,9,10,11,12,13,14,15,16,17,18,19,20,21,22,23,24,25,26,27,28,29,30,31,32,33,34,35,36,37,38,39,40,41,42,43,44,45,46,47,48,49,50,51,52,53,54,55,56,57,58,59,60,61,62,63,64,65,66,67,68,69,70,71,72,73,74,75,76,77,78,79,80,81,82,83,84,85,86,87,88,89,90,91,92,93,94,95,96,97,98,99,100,101,102,103,104,105,106,107,108,109,110,111,112,113,114,115,116,117,118,119,120,121,122,123,124,125,126,127,128,129) have mixed types. Specify dtype option on import or set low_memory=False.\n",
      "  exec(code_obj, self.user_global_ns, self.user_ns)\n"
     ]
    }
   ],
   "source": [
    "training_filenames = [ './data/training_fluid_intelligenceV1.csv', './data/btsv01.txt', './data/cc_training_v2.csv', \\\n",
    "                     'data/training_data_means.csv', 'data/training_data_entropy.csv',  'data/training_data_stdevs.csv',]\n",
    "validation_filenames=[ './data/validation_fluid_intelligenceV1.csv', './data/btsv01.txt', './data/cc_validation_v2.csv', \\\n",
    "                     'data/validation_data_means.csv', 'data/validation_data_entropy.csv', 'data/validation_data_stdevs.csv']\n",
    "\n",
    "cols_to_drop = ['btsv01_id', 'interview_date', 'collection_id', 'dataset_id', 'collection_title', \\\n",
    "                'src_subject_id', 'gender']\n",
    "\n",
    "label_col = 'residual_fluid_intelligence_score'\n",
    "\n",
    "training = Dataset(training_filenames, cols_to_drop, label_col)\n",
    "validation = Dataset(validation_filenames, cols_to_drop, label_col)\n",
    "\n",
    "#train - 3723 vs 3739\n",
    "#val - 411 vs 415"
   ]
  },
  {
   "cell_type": "code",
   "execution_count": 3,
   "metadata": {
    "collapsed": false
   },
   "outputs": [],
   "source": [
    "train_data = normalize_data(training.data)\n",
    "val_data = normalize_data(validation.data)"
   ]
  },
  {
   "cell_type": "code",
   "execution_count": 4,
   "metadata": {
    "collapsed": false
   },
   "outputs": [],
   "source": [
    "#generating custom columns\n",
    "is_frontal = np.array([x for x in range(train_data.shape[1]) if 'frontal' in training.meta_data['final_dataset']['columns'][x]])\n",
    "is_suptent = np.array([x for x in range(train_data.shape[1]) if 'supratentorium' in training.meta_data['final_dataset']['columns'][x]])\n",
    "structures_to_delete = ['thalamus', 'caudate', 'putamen', 'pallidum', 'volume', 'wm', 'supratentorium', 'csf']\n",
    "cortex_indices = []\n",
    "for i,column in enumerate(training.meta_data['final_dataset']['columns']):\n",
    "    curr_deletes = []\n",
    "    for name in structures_to_delete: \n",
    "        if name in column:\n",
    "            curr_deletes.append(name)\n",
    "    if len(curr_deletes)==0 and i>=0:\n",
    "        cortex_indices.append(i)\n",
    "\n",
    "cortex_indices = np.array(cortex_indices)\n",
    "\n",
    "def generate_frontal_ratio(frontal_inds, reference_inds, data):\n",
    "    coefs = []\n",
    "    for observation in data:\n",
    "        frontal_volume = np.sum(observation[frontal_inds])\n",
    "        reference_volume = np.sum(observation[reference_inds])\n",
    "        coefs.append(frontal_volume/reference_volume)\n",
    "    return np.array(coefs).reshape(-1,1)\n",
    "\n",
    "frontal_suptent_train = normalize_data(generate_frontal_ratio(is_frontal, is_suptent, train_data))\n",
    "frontal_suptent_val = normalize_data(generate_frontal_ratio(is_frontal, is_suptent, val_data))\n",
    "frontal_cortex_train= normalize_data(generate_frontal_ratio(is_frontal, cortex_indices, train_data))\n",
    "frontal_cortex_val = normalize_data(generate_frontal_ratio(is_frontal, cortex_indices, val_data))\n",
    "\n",
    "#append to cols and to data\n",
    "dataset_cols = training.meta_data['final_dataset']['columns']\n",
    "dataset_cols.extend(['frontal_suptent_ratio', 'frontal_cortex_ratio'])\n",
    "train_data = np.append(train_data, np.hstack((frontal_suptent_train, frontal_cortex_train)), axis=1)\n",
    "val_data = np.append(val_data, np.hstack((frontal_suptent_val, frontal_cortex_val)), axis=1)"
   ]
  },
  {
   "cell_type": "code",
   "execution_count": 5,
   "metadata": {
    "collapsed": false
   },
   "outputs": [
    {
     "data": {
      "text/plain": [
       "71.94943202814329"
      ]
     },
     "execution_count": 5,
     "metadata": {},
     "output_type": "execute_result"
    }
   ],
   "source": [
    "svr = SVR()\n",
    "svr.fit(train_data, training.labels)\n",
    "preds= svr.predict(val_data)\n",
    "mse(preds, validation.labels)"
   ]
  },
  {
   "cell_type": "code",
   "execution_count": 6,
   "metadata": {
    "collapsed": false
   },
   "outputs": [],
   "source": [
    "#here think about how we will benchmark the data\n",
    "models = {\n",
    "    'majority': np.array([np.mean(training.labels) for x in val_data]), \n",
    "    'random': np.random.rand(len(val_data))*15, #15 is a sd of our distribution\n",
    "    'svr': SVR(),\n",
    "    'randfor': RandomForestRegressor(), \n",
    "    'xgboost': xgboost.XGBRegressor()\n",
    "}\n",
    "#list - each element is an object of a model that we want to try\n",
    "\n",
    "\n",
    "def restrict_dataset(final_cols, df_dict, filenames, include_generated=True):\n",
    "    #here we restrict our dataset to only columns that are found in the dataframes from the following filenames\n",
    "    valid_cols = []\n",
    "    if include_generated:\n",
    "        valid_cols.extend(['frontal_suptent_ratio', 'frontal_cortex_ratio'])\n",
    "    for file in filenames:\n",
    "        valid_cols.extend(df_dict[file]['columns'])\n",
    "    valid_cols = set(final_cols).intersection(set(valid_cols))\n",
    "    valid_inds = np.array([i for i,x in enumerate(final_cols) if x in valid_cols])\n",
    "    return valid_inds\n"
   ]
  },
  {
   "cell_type": "code",
   "execution_count": 7,
   "metadata": {
    "collapsed": false
   },
   "outputs": [],
   "source": [
    "import itertools\n",
    "files_to_explore = ['./data/btsv01.txt','./data/cc_training_v2.csv', 'data/training_data_means.csv', \\\n",
    "                    'data/training_data_stdevs.csv', 'data/training_data_entropy.csv']\n",
    "files_compound_variants = [list(set(x)) for x in itertools.permutations(files_to_explore, len(files_to_explore))]\n",
    "# training.meta_data.keys()\n",
    "column_variants = [restrict_dataset(dataset_cols, training.meta_data, f) for f in files_compound_variants]\n",
    "column_variants.extend([restrict_dataset(dataset_cols, training.meta_data, f, include_generated=False) for f in files_compound_variants])\n",
    "column_variants.append([x for x in range(train_data.shape[1])])"
   ]
  },
  {
   "cell_type": "code",
   "execution_count": 8,
   "metadata": {
    "collapsed": false
   },
   "outputs": [
    {
     "data": {
      "text/plain": [
       "'240 completed'"
      ]
     },
     "metadata": {},
     "output_type": "display_data"
    }
   ],
   "source": [
    "from IPython.display import display, clear_output\n",
    "import time\n",
    "results = {\n",
    "  'majority': mse(models['majority'], validation.labels), \n",
    "    'random': mse(models['random'], validation.labels)\n",
    "}\n",
    "best_val = 100\n",
    "best_ind = 0\n",
    "for i,x in enumerate(column_variants):\n",
    "    results[i] = {}\n",
    "    for model in models.keys(): \n",
    "        if model not in ['majority', 'random']:\n",
    "            models[model].fit(train_data[:,x], training.labels)\n",
    "            pred = models[model].predict(val_data[:,x])\n",
    "            results[i][model] = mse(pred, validation.labels)\n",
    "            if results[i][model] < best_val: \n",
    "                best_val = results[i][model]\n",
    "                best_ind = i\n",
    "    clear_output(wait=True)\n",
    "    display('{} completed'.format(i))\n",
    "    time.sleep(0.01)"
   ]
  },
  {
   "cell_type": "code",
   "execution_count": 29,
   "metadata": {
    "collapsed": false
   },
   "outputs": [
    {
     "data": {
      "text/plain": [
       "71.82056395466884"
      ]
     },
     "execution_count": 29,
     "metadata": {},
     "output_type": "execute_result"
    }
   ],
   "source": [
    "best_val"
   ]
  },
  {
   "cell_type": "code",
   "execution_count": 9,
   "metadata": {
    "collapsed": false
   },
   "outputs": [],
   "source": [
    "int_to_cols = {i: x for i,x in enumerate(files_compound_variants)}"
   ]
  },
  {
   "cell_type": "code",
   "execution_count": 10,
   "metadata": {
    "collapsed": false
   },
   "outputs": [],
   "source": [
    "import pickle\n",
    "\n",
    "results_file = 'data/results.pkl'\n",
    "with open(results_file, 'wb') as f:\n",
    "    pickle.dump(results, f)\n",
    "    \n",
    "int_to_col_file = 'data/variants_mapping.pkl'\n",
    "with open(int_to_col_file, 'wb') as f: \n",
    "    pickle.dump(int_to_cols, f)\n"
   ]
  },
  {
   "cell_type": "code",
   "execution_count": 27,
   "metadata": {
    "collapsed": false
   },
   "outputs": [],
   "source": [
    "svr_results = [results[x]['svr'] for x in results.keys() if x not in ['random', 'majority']]\n",
    "randfor_results = [results[x]['randfor'] for x in results.keys() if x not in ['random', 'majority']]\n",
    "xgb_results = [results[x]['xgboost'] for x in results.keys() if x not in ['random', 'majority']]"
   ]
  },
  {
   "cell_type": "code",
   "execution_count": 28,
   "metadata": {
    "collapsed": false
   },
   "outputs": [
    {
     "name": "stdout",
     "output_type": "stream",
     "text": [
      "71.88526535255436\n",
      "79.69893238752564\n",
      "74.88298432429832\n"
     ]
    }
   ],
   "source": [
    "print(np.mean(svr_results))\n",
    "print(np.mean(randfor_results))\n",
    "print(np.mean(xgb_results))"
   ]
  },
  {
   "cell_type": "code",
   "execution_count": 48,
   "metadata": {
    "collapsed": false
   },
   "outputs": [
    {
     "name": "stdout",
     "output_type": "stream",
     "text": [
      "MSE on train: 78.14014407529176\n",
      "MSE on val: 71.82056395466884\n"
     ]
    }
   ],
   "source": [
    "best_clf = SVR()\n",
    "best_clf.fit(train_data[:,column_variants[best_ind]], training.labels)\n",
    "preds_train = best_clf.predict(train_data[:,column_variants[best_ind]])\n",
    "preds_val = best_clf.predict(val_data[:,column_variants[best_ind]])\n",
    "print(\"MSE on train: {}\".format(mse(preds_train, training.labels)))\n",
    "print(\"MSE on val: {}\".format(mse(preds_val, validation.labels)))"
   ]
  },
  {
   "cell_type": "code",
   "execution_count": 45,
   "metadata": {
    "collapsed": false
   },
   "outputs": [],
   "source": [
    "import eli5\n",
    "from eli5.sklearn import PermutationImportance"
   ]
  },
  {
   "cell_type": "code",
   "execution_count": 52,
   "metadata": {
    "collapsed": false
   },
   "outputs": [],
   "source": [
    "perm = PermutationImportance(best_clf, random_state=1, scoring='neg_mean_squared_error').fit(val_data[:,column_variants[best_ind]], validation.labels)\n"
   ]
  },
  {
   "cell_type": "code",
   "execution_count": 66,
   "metadata": {
    "collapsed": false
   },
   "outputs": [
    {
     "data": {
      "text/html": [
       "\n",
       "    <style>\n",
       "    table.eli5-weights tr:hover {\n",
       "        filter: brightness(85%);\n",
       "    }\n",
       "</style>\n",
       "\n",
       "\n",
       "\n",
       "    \n",
       "\n",
       "    \n",
       "\n",
       "    \n",
       "\n",
       "    \n",
       "\n",
       "    \n",
       "\n",
       "    \n",
       "\n",
       "\n",
       "    \n",
       "\n",
       "    \n",
       "\n",
       "    \n",
       "\n",
       "    \n",
       "\n",
       "    \n",
       "\n",
       "    \n",
       "\n",
       "\n",
       "    \n",
       "\n",
       "    \n",
       "\n",
       "    \n",
       "\n",
       "    \n",
       "\n",
       "    \n",
       "        <table class=\"eli5-weights eli5-feature-importances\" style=\"border-collapse: collapse; border: none; margin-top: 0em; table-layout: auto;\">\n",
       "    <thead>\n",
       "    <tr style=\"border: none;\">\n",
       "        <th style=\"padding: 0 1em 0 0.5em; text-align: right; border: none;\">Weight</th>\n",
       "        <th style=\"padding: 0 0.5em 0 0.5em; text-align: left; border: none;\">Feature</th>\n",
       "    </tr>\n",
       "    </thead>\n",
       "    <tbody>\n",
       "    \n",
       "        <tr style=\"background-color: hsl(120, 100.00%, 80.00%); border: none;\">\n",
       "            <td style=\"padding: 0 1em 0 0.5em; text-align: right; border: none;\">\n",
       "                0.1658\n",
       "                \n",
       "                    &plusmn; 0.0938\n",
       "                \n",
       "            </td>\n",
       "            <td style=\"padding: 0 0.5em 0 0.5em; text-align: left; border: none;\">\n",
       "                e71\n",
       "            </td>\n",
       "        </tr>\n",
       "    \n",
       "        <tr style=\"background-color: hsl(120, 100.00%, 85.06%); border: none;\">\n",
       "            <td style=\"padding: 0 1em 0 0.5em; text-align: right; border: none;\">\n",
       "                0.1093\n",
       "                \n",
       "                    &plusmn; 0.0692\n",
       "                \n",
       "            </td>\n",
       "            <td style=\"padding: 0 0.5em 0 0.5em; text-align: left; border: none;\">\n",
       "                sri24parietalinflgm\n",
       "            </td>\n",
       "        </tr>\n",
       "    \n",
       "        <tr style=\"background-color: hsl(120, 100.00%, 86.58%); border: none;\">\n",
       "            <td style=\"padding: 0 1em 0 0.5em; text-align: right; border: none;\">\n",
       "                0.0938\n",
       "                \n",
       "                    &plusmn; 0.0692\n",
       "                \n",
       "            </td>\n",
       "            <td style=\"padding: 0 0.5em 0 0.5em; text-align: left; border: none;\">\n",
       "                sri24parietalsuprgm\n",
       "            </td>\n",
       "        </tr>\n",
       "    \n",
       "        <tr style=\"background-color: hsl(120, 100.00%, 87.20%); border: none;\">\n",
       "            <td style=\"padding: 0 1em 0 0.5em; text-align: right; border: none;\">\n",
       "                0.0876\n",
       "                \n",
       "                    &plusmn; 0.0480\n",
       "                \n",
       "            </td>\n",
       "            <td style=\"padding: 0 0.5em 0 0.5em; text-align: left; border: none;\">\n",
       "                sri24cerebelumcrus1rvolume\n",
       "            </td>\n",
       "        </tr>\n",
       "    \n",
       "        <tr style=\"background-color: hsl(120, 100.00%, 88.09%); border: none;\">\n",
       "            <td style=\"padding: 0 1em 0 0.5em; text-align: right; border: none;\">\n",
       "                0.0790\n",
       "                \n",
       "                    &plusmn; 0.0922\n",
       "                \n",
       "            </td>\n",
       "            <td style=\"padding: 0 0.5em 0 0.5em; text-align: left; border: none;\">\n",
       "                sri24vermis2gm\n",
       "            </td>\n",
       "        </tr>\n",
       "    \n",
       "        <tr style=\"background-color: hsl(120, 100.00%, 88.12%); border: none;\">\n",
       "            <td style=\"padding: 0 1em 0 0.5em; text-align: right; border: none;\">\n",
       "                0.0788\n",
       "                \n",
       "                    &plusmn; 0.0676\n",
       "                \n",
       "            </td>\n",
       "            <td style=\"padding: 0 0.5em 0 0.5em; text-align: left; border: none;\">\n",
       "                sri24vtlsthirdvtlrcsf\n",
       "            </td>\n",
       "        </tr>\n",
       "    \n",
       "        <tr style=\"background-color: hsl(120, 100.00%, 88.42%); border: none;\">\n",
       "            <td style=\"padding: 0 1em 0 0.5em; text-align: right; border: none;\">\n",
       "                0.0760\n",
       "                \n",
       "                    &plusmn; 0.0195\n",
       "                \n",
       "            </td>\n",
       "            <td style=\"padding: 0 0.5em 0 0.5em; text-align: left; border: none;\">\n",
       "                s70\n",
       "            </td>\n",
       "        </tr>\n",
       "    \n",
       "        <tr style=\"background-color: hsl(120, 100.00%, 88.99%); border: none;\">\n",
       "            <td style=\"padding: 0 1em 0 0.5em; text-align: right; border: none;\">\n",
       "                0.0707\n",
       "                \n",
       "                    &plusmn; 0.0220\n",
       "                \n",
       "            </td>\n",
       "            <td style=\"padding: 0 0.5em 0 0.5em; text-align: left; border: none;\">\n",
       "                sri24amygdalalgm\n",
       "            </td>\n",
       "        </tr>\n",
       "    \n",
       "        <tr style=\"background-color: hsl(120, 100.00%, 89.27%); border: none;\">\n",
       "            <td style=\"padding: 0 1em 0 0.5em; text-align: right; border: none;\">\n",
       "                0.0682\n",
       "                \n",
       "                    &plusmn; 0.0384\n",
       "                \n",
       "            </td>\n",
       "            <td style=\"padding: 0 0.5em 0 0.5em; text-align: left; border: none;\">\n",
       "                sri24cerebelum6lvolume\n",
       "            </td>\n",
       "        </tr>\n",
       "    \n",
       "        <tr style=\"background-color: hsl(120, 100.00%, 89.33%); border: none;\">\n",
       "            <td style=\"padding: 0 1em 0 0.5em; text-align: right; border: none;\">\n",
       "                0.0676\n",
       "                \n",
       "                    &plusmn; 0.0610\n",
       "                \n",
       "            </td>\n",
       "            <td style=\"padding: 0 0.5em 0 0.5em; text-align: left; border: none;\">\n",
       "                e32\n",
       "            </td>\n",
       "        </tr>\n",
       "    \n",
       "        <tr style=\"background-color: hsl(120, 100.00%, 89.73%); border: none;\">\n",
       "            <td style=\"padding: 0 1em 0 0.5em; text-align: right; border: none;\">\n",
       "                0.0640\n",
       "                \n",
       "                    &plusmn; 0.0237\n",
       "                \n",
       "            </td>\n",
       "            <td style=\"padding: 0 0.5em 0 0.5em; text-align: left; border: none;\">\n",
       "                e56\n",
       "            </td>\n",
       "        </tr>\n",
       "    \n",
       "        <tr style=\"background-color: hsl(120, 100.00%, 89.77%); border: none;\">\n",
       "            <td style=\"padding: 0 1em 0 0.5em; text-align: right; border: none;\">\n",
       "                0.0636\n",
       "                \n",
       "                    &plusmn; 0.0839\n",
       "                \n",
       "            </td>\n",
       "            <td style=\"padding: 0 0.5em 0 0.5em; text-align: left; border: none;\">\n",
       "                sri24parietalinfrgm\n",
       "            </td>\n",
       "        </tr>\n",
       "    \n",
       "        <tr style=\"background-color: hsl(120, 100.00%, 89.89%); border: none;\">\n",
       "            <td style=\"padding: 0 1em 0 0.5em; text-align: right; border: none;\">\n",
       "                0.0626\n",
       "                \n",
       "                    &plusmn; 0.0939\n",
       "                \n",
       "            </td>\n",
       "            <td style=\"padding: 0 0.5em 0 0.5em; text-align: left; border: none;\">\n",
       "                sri24temporalsuprgm\n",
       "            </td>\n",
       "        </tr>\n",
       "    \n",
       "        <tr style=\"background-color: hsl(120, 100.00%, 90.04%); border: none;\">\n",
       "            <td style=\"padding: 0 1em 0 0.5em; text-align: right; border: none;\">\n",
       "                0.0613\n",
       "                \n",
       "                    &plusmn; 0.0251\n",
       "                \n",
       "            </td>\n",
       "            <td style=\"padding: 0 0.5em 0 0.5em; text-align: left; border: none;\">\n",
       "                sri24insulalgm\n",
       "            </td>\n",
       "        </tr>\n",
       "    \n",
       "        <tr style=\"background-color: hsl(120, 100.00%, 90.14%); border: none;\">\n",
       "            <td style=\"padding: 0 1em 0 0.5em; text-align: right; border: none;\">\n",
       "                0.0604\n",
       "                \n",
       "                    &plusmn; 0.0667\n",
       "                \n",
       "            </td>\n",
       "            <td style=\"padding: 0 0.5em 0 0.5em; text-align: left; border: none;\">\n",
       "                sri24paracentrallobulergm\n",
       "            </td>\n",
       "        </tr>\n",
       "    \n",
       "        <tr style=\"background-color: hsl(120, 100.00%, 90.16%); border: none;\">\n",
       "            <td style=\"padding: 0 1em 0 0.5em; text-align: right; border: none;\">\n",
       "                0.0602\n",
       "                \n",
       "                    &plusmn; 0.0297\n",
       "                \n",
       "            </td>\n",
       "            <td style=\"padding: 0 0.5em 0 0.5em; text-align: left; border: none;\">\n",
       "                <span style=\"background-color: hsl(120, 80%, 70%); margin: 0 0.1em 0 0\" title=\"A space symbol\">&emsp;</span>CC_length\n",
       "            </td>\n",
       "        </tr>\n",
       "    \n",
       "        <tr style=\"background-color: hsl(120, 100.00%, 90.33%); border: none;\">\n",
       "            <td style=\"padding: 0 1em 0 0.5em; text-align: right; border: none;\">\n",
       "                0.0587\n",
       "                \n",
       "                    &plusmn; 0.0487\n",
       "                \n",
       "            </td>\n",
       "            <td style=\"padding: 0 0.5em 0 0.5em; text-align: left; border: none;\">\n",
       "                sri24occipitalsuplgm\n",
       "            </td>\n",
       "        </tr>\n",
       "    \n",
       "        <tr style=\"background-color: hsl(120, 100.00%, 90.70%); border: none;\">\n",
       "            <td style=\"padding: 0 1em 0 0.5em; text-align: right; border: none;\">\n",
       "                0.0555\n",
       "                \n",
       "                    &plusmn; 0.0218\n",
       "                \n",
       "            </td>\n",
       "            <td style=\"padding: 0 0.5em 0 0.5em; text-align: left; border: none;\">\n",
       "                sri24precuneusrgm\n",
       "            </td>\n",
       "        </tr>\n",
       "    \n",
       "        <tr style=\"background-color: hsl(120, 100.00%, 90.73%); border: none;\">\n",
       "            <td style=\"padding: 0 1em 0 0.5em; text-align: right; border: none;\">\n",
       "                0.0553\n",
       "                \n",
       "                    &plusmn; 0.0278\n",
       "                \n",
       "            </td>\n",
       "            <td style=\"padding: 0 0.5em 0 0.5em; text-align: left; border: none;\">\n",
       "                s97\n",
       "            </td>\n",
       "        </tr>\n",
       "    \n",
       "        <tr style=\"background-color: hsl(120, 100.00%, 90.90%); border: none;\">\n",
       "            <td style=\"padding: 0 1em 0 0.5em; text-align: right; border: none;\">\n",
       "                0.0538\n",
       "                \n",
       "                    &plusmn; 0.0759\n",
       "                \n",
       "            </td>\n",
       "            <td style=\"padding: 0 0.5em 0 0.5em; text-align: left; border: none;\">\n",
       "                sri24cerebelum6rvolume\n",
       "            </td>\n",
       "        </tr>\n",
       "    \n",
       "    \n",
       "        \n",
       "            <tr style=\"background-color: hsl(120, 100.00%, 90.90%); border: none;\">\n",
       "                <td colspan=\"2\" style=\"padding: 0 0.5em 0 0.5em; text-align: center; border: none; white-space: nowrap;\">\n",
       "                    <i>&hellip; 524 more &hellip;</i>\n",
       "                </td>\n",
       "            </tr>\n",
       "        \n",
       "    \n",
       "    </tbody>\n",
       "</table>\n",
       "    \n",
       "\n",
       "    \n",
       "\n",
       "\n",
       "    \n",
       "\n",
       "    \n",
       "\n",
       "    \n",
       "\n",
       "    \n",
       "\n",
       "    \n",
       "\n",
       "    \n",
       "\n",
       "\n",
       "\n"
      ],
      "text/plain": [
       "<IPython.core.display.HTML object>"
      ]
     },
     "execution_count": 66,
     "metadata": {},
     "output_type": "execute_result"
    }
   ],
   "source": [
    "eli5.show_weights(perm, feature_names = np.array(dataset_cols)[column_variants[best_ind]])"
   ]
  },
  {
   "cell_type": "code",
   "execution_count": 60,
   "metadata": {
    "collapsed": false
   },
   "outputs": [
    {
     "data": {
      "text/plain": [
       "544"
      ]
     },
     "execution_count": 60,
     "metadata": {},
     "output_type": "execute_result"
    }
   ],
   "source": [
    "len(perm.feature_importances_)"
   ]
  },
  {
   "cell_type": "code",
   "execution_count": 65,
   "metadata": {
    "collapsed": false
   },
   "outputs": [],
   "source": [
    "file_feature_import= 'data/feature_importance.pkl'\n",
    "df_feature_imp = pd.DataFrame(columns=['feature_name', 'feature_importance'])\n",
    "df_feature_imp['feature_name'] = np.array(dataset_cols)[column_variants[best_ind]]\n",
    "df_feature_imp['feature_importance'] = perm.feature_importances_\n",
    "with open(file_feature_import, 'wb') as f: \n",
    "    pickle.dump(df_feature_imp, f)"
   ]
  },
  {
   "cell_type": "code",
   "execution_count": null,
   "metadata": {
    "collapsed": true
   },
   "outputs": [],
   "source": []
  }
 ],
 "metadata": {
  "kernelspec": {
   "display_name": "Python [Root]",
   "language": "python",
   "name": "Python [Root]"
  },
  "language_info": {
   "codemirror_mode": {
    "name": "ipython",
    "version": 3
   },
   "file_extension": ".py",
   "mimetype": "text/x-python",
   "name": "python",
   "nbconvert_exporter": "python",
   "pygments_lexer": "ipython3",
   "version": "3.5.2"
  }
 },
 "nbformat": 4,
 "nbformat_minor": 2
}
