{
 "cells": [
  {
   "cell_type": "code",
   "execution_count": 1,
   "metadata": {
    "collapsed": true
   },
   "outputs": [],
   "source": [
    "import numpy as np \n",
    "import pandas as pd \n",
    "import matplotlib.pyplot as plt \n",
    "%matplotlib inline"
   ]
  },
  {
   "cell_type": "code",
   "execution_count": 70,
   "metadata": {
    "collapsed": false
   },
   "outputs": [
    {
     "name": "stderr",
     "output_type": "stream",
     "text": [
      "/Users/admin/anaconda/lib/python3.5/site-packages/IPython/core/interactiveshell.py:2723: DtypeWarning: Columns (0,1,2,6,8,9,10,11,12,13,14,15,16,17,18,19,20,21,22,23,24,25,26,27,28,29,30,31,32,33,34,35,36,37,38,39,40,41,42,43,44,45,46,47,48,49,50,51,52,53,54,55,56,57,58,59,60,61,62,63,64,65,66,67,68,69,70,71,72,73,74,75,76,77,78,79,80,81,82,83,84,85,86,87,88,89,90,91,92,93,94,95,96,97,98,99,100,101,102,103,104,105,106,107,108,109,110,111,112,113,114,115,116,117,118,119,120,121,122,123,124,125,126,127,128,129) have mixed types. Specify dtype option on import or set low_memory=False.\n",
      "  interactivity=interactivity, compiler=compiler, result=result)\n"
     ]
    },
    {
     "name": "stdout",
     "output_type": "stream",
     "text": [
      "Index(['sri24cblmhemiwhtrwm', 'sri24ponswm', 'sri24corpuscallosumwm',\n",
      "       'sri24wm400wm400lwm', 'sri24wm400wm400rwm', 'sri24vtlslateralvtllcsf',\n",
      "       'sri24vtlslateralvtlrcsf', 'sri24vtlsthirdvtllcsf',\n",
      "       'sri24vtlsthirdvtlrcsf', 'sri24suptentsupratentoriumv'],\n",
      "      dtype='object')\n"
     ]
    }
   ],
   "source": [
    "raw_training_data = pd.read_csv('./data/results_training_v3.csv')\n",
    "raw_labels = pd.read_csv('./data/training_fluid_intelligenceV1.csv')\n",
    "raw_description_data = pd.read_csv('./data/btsv01.txt', sep='\\t')\n",
    "merge_with_description = True\n",
    "#now we merge it \n",
    "\n",
    "if merge_with_description: \n",
    "    raw_training_data = pd.merge(raw_training_data, raw_description_data, left_on='subject', right_on='subjectkey')\n",
    "    raw_training_data = raw_training_data.drop([0], axis=0)\n",
    "    raw_training_data = raw_training_data.drop(['btsv01_id', 'interview_date', 'collection_id', \\\n",
    "                              'dataset_id', 'collection_title', 'src_subject_id', 'gender', 'subjectkey'], axis=1)\n",
    "\n",
    "train_data_with_labels = pd.merge(raw_training_data, raw_labels, on='subject')\n",
    "labels = train_data_with_labels['residual_fluid_intelligence_score']\n",
    "\n",
    "\n",
    "train_data = train_data_with_labels.drop(['subject', 'residual_fluid_intelligence_score'], axis=1)"
   ]
  },
  {
   "cell_type": "code",
   "execution_count": 71,
   "metadata": {
    "collapsed": false
   },
   "outputs": [],
   "source": [
    "#first convert to matrix and normalize data\n",
    "def normalize_data(data: np.array, standardize=True):\n",
    "    means = np.mean(data, axis=0)\n",
    "    stds = np.std(data, axis=0)\n",
    "    if not standardize:\n",
    "        return data-means\n",
    "    return (data-means)/stds\n",
    "\n",
    "train_data = normalize_data(train_data.values.astype(float))"
   ]
  },
  {
   "cell_type": "code",
   "execution_count": 80,
   "metadata": {
    "collapsed": false
   },
   "outputs": [],
   "source": [
    "#now explore the models and cross-val \n",
    "from sklearn.model_selection import cross_validate\n",
    "def mse(real, pred):\n",
    "    print(real.shape, pred.shape)\n",
    "    return np.mean(np.square(real-pred))\n",
    "\n",
    "def run_crossval(clf, X, y,n_cv=3):\n",
    "    cv_scores = cross_validate(clf, X,y, cv=n_cv, scoring='neg_mean_squared_error')\n",
    "    return cv_scores"
   ]
  },
  {
   "cell_type": "code",
   "execution_count": null,
   "metadata": {
    "collapsed": false
   },
   "outputs": [],
   "source": [
    "from sklearn.svm import SVR \n",
    "\n",
    "svr = SVR()\n",
    "\n",
    "np.mean(run_crossval(svr, train_data, labels, 10)['test_score'])"
   ]
  },
  {
   "cell_type": "code",
   "execution_count": 79,
   "metadata": {
    "collapsed": false
   },
   "outputs": [
    {
     "name": "stdout",
     "output_type": "stream",
     "text": [
      "(187,) (187,)\n"
     ]
    },
    {
     "data": {
      "text/plain": [
       "86.77449157539301"
      ]
     },
     "execution_count": 79,
     "metadata": {},
     "output_type": "execute_result"
    }
   ],
   "source": [
    "from sklearn.model_selection import train_test_split\n",
    "X_train, X_test, y_train, y_test = train_test_split(train_data, labels, test_size=0.1)\n",
    "svr.fit(X_train, y_train)\n",
    "xxx= svr.predict(X_test)\n",
    "mse(y_test, xxx)"
   ]
  },
  {
   "cell_type": "code",
   "execution_count": null,
   "metadata": {
    "collapsed": false
   },
   "outputs": [],
   "source": []
  },
  {
   "cell_type": "code",
   "execution_count": null,
   "metadata": {
    "collapsed": true
   },
   "outputs": [],
   "source": []
  }
 ],
 "metadata": {
  "kernelspec": {
   "display_name": "Python [Root]",
   "language": "python",
   "name": "Python [Root]"
  },
  "language_info": {
   "codemirror_mode": {
    "name": "ipython",
    "version": 3
   },
   "file_extension": ".py",
   "mimetype": "text/x-python",
   "name": "python",
   "nbconvert_exporter": "python",
   "pygments_lexer": "ipython3",
   "version": "3.5.2"
  }
 },
 "nbformat": 4,
 "nbformat_minor": 0
}
