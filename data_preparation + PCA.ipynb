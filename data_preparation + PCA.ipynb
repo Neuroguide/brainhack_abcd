{
 "cells": [
  {
   "cell_type": "code",
   "execution_count": 1,
   "metadata": {
    "collapsed": true
   },
   "outputs": [],
   "source": [
    "import numpy as np \n",
    "import pandas as pd \n",
    "import matplotlib.pyplot as plt \n",
    "from sklearn.decomposition import PCA\n",
    "import seaborn as sns\n",
    "from sklearn.svm import SVR \n",
    "from functools import reduce\n",
    "\n",
    "%matplotlib inline"
   ]
  },
  {
   "cell_type": "code",
   "execution_count": 2,
   "metadata": {
    "collapsed": false
   },
   "outputs": [
    {
     "name": "stdout",
     "output_type": "stream",
     "text": [
      "Dataset shape: (7803, 131)\n",
      "Labels train shape: (3739, 2)\n",
      "Labels val shape: (415, 2)\n"
     ]
    },
    {
     "name": "stderr",
     "output_type": "stream",
     "text": [
      "/Users/admin/anaconda/lib/python3.5/site-packages/IPython/core/interactiveshell.py:2723: DtypeWarning: Columns (0,1,2,6,8,9,10,11,12,13,14,15,16,17,18,19,20,21,22,23,24,25,26,27,28,29,30,31,32,33,34,35,36,37,38,39,40,41,42,43,44,45,46,47,48,49,50,51,52,53,54,55,56,57,58,59,60,61,62,63,64,65,66,67,68,69,70,71,72,73,74,75,76,77,78,79,80,81,82,83,84,85,86,87,88,89,90,91,92,93,94,95,96,97,98,99,100,101,102,103,104,105,106,107,108,109,110,111,112,113,114,115,116,117,118,119,120,121,122,123,124,125,126,127,128,129) have mixed types. Specify dtype option on import or set low_memory=False.\n",
      "  interactivity=interactivity, compiler=compiler, result=result)\n"
     ]
    }
   ],
   "source": [
    "data_filename = 'data/btsv01.txt'\n",
    "rois = pd.read_csv(data_filename, delim_whitespace=True)\n",
    "labels_train_filename = 'data/training_fluid_intelligenceV1.csv'\n",
    "labels_val_filename = 'data/validation_fluid_intelligenceV1.csv'\n",
    "labels_train = pd.read_csv(labels_train_filename, sep=',')\n",
    "labels_val = pd.read_csv(labels_val_filename, sep=',')\n",
    "print(\"Dataset shape: {}\".format(rois.shape))\n",
    "print(\"Labels train shape: {}\".format(labels_train.shape))\n",
    "print(\"Labels val shape: {}\".format(labels_val.shape))"
   ]
  },
  {
   "cell_type": "code",
   "execution_count": 3,
   "metadata": {
    "collapsed": false
   },
   "outputs": [],
   "source": [
    "columns_description = rois.iloc[0]\n",
    "#delete the row with description of the columns from data\n",
    "rois_clean = rois.drop(rois.index[[0]])"
   ]
  },
  {
   "cell_type": "code",
   "execution_count": 4,
   "metadata": {
    "collapsed": false
   },
   "outputs": [
    {
     "name": "stdout",
     "output_type": "stream",
     "text": [
      "collection_id                                                      collection_id\n",
      "btsv01_id                                                              btsv01_id\n",
      "dataset_id                                                            dataset_id\n",
      "subjectkey                     The NDAR Global Unique Identifier (GUID) for r...\n",
      "src_subject_id                        Subject ID how it's defined in lab/project\n",
      "interview_date                 Date on which the interview/genetic test/sampl...\n",
      "interview_age                  Age in months at the time of the interview/tes...\n",
      "gender                                                        Sex of the subject\n",
      "sri24precentrallgm                      left precentral gyrus gray matter volume\n",
      "sri24precentralrgm                     right precentral gyrus gray matter volume\n",
      "sri24frontalsuplgm             left superior frontal gyrus, dorsolater gray m...\n",
      "sri24frontalsuprgm             right superior frontal gyrus, dorsolater gray ...\n",
      "sri24frontalsuporblgm          left superior frontal gyrus, orbital part gray...\n",
      "sri24frontalsuporbrgm          right superior frontal gyrus, orbital part gra...\n",
      "sri24frontalmidlgm             left middle frontal gyrus, lateral part gray m...\n",
      "sri24frontalmidrgm             right middle frontal gyrus, lateral part gray ...\n",
      "sri24frontalmidorblgm          left middle frontal gyrus, orbital part gray m...\n",
      "sri24frontalmidorbrgm          right middle frontal gyrus, orbital part gray ...\n",
      "sri24frontalinfoperlgm         left opercular part of inferior frontal gyrus ...\n",
      "sri24frontalinfoperrgm         right opercular part of inferior frontal gyrus...\n",
      "sri24frontalinftrilgm                  left area triangularis gray matter volume\n",
      "sri24frontalinftrirgm                 right area triangularis gray matter volume\n",
      "sri24frontalinforblgm          left orbital part of inferior frontal gyrus gr...\n",
      "sri24frontalinforbrgm          right orbital part of inferior frontal gyrus g...\n",
      "sri24rolandicoperlgm                  left rolandic operculum gray matter volume\n",
      "sri24rolandicoperrgm                 right rolandic operculum gray matter volume\n",
      "sri24suppmotorarealgm           left supplementary motor area gray matter volume\n",
      "sri24suppmotorareargm          right supplementary motor area gray matter volume\n",
      "sri24olfactorylgm                       left olfactory cortex gray matter volume\n",
      "sri24olfactoryrgm                      right olfactory cortex gray matter volume\n",
      "                                                     ...                        \n",
      "sri24cerebelumcrus2rvolume         right crus II of cerebellar hemisphere volume\n",
      "sri24cerebelum3lvolume           left Lobule III of cerebellar hemisphere volume\n",
      "sri24cerebelum3rvolume          right Lobule III of cerebellar hemisphere volume\n",
      "sri24cerebelum45lvolume        left lobule IV, V of cerebellar hemisphere volume\n",
      "sri24cerebelum45rvolume        right lobule IV, V of cerebellar hemisphere vo...\n",
      "sri24cerebelum6lvolume            left Lobule VI of cerebellar hemisphere volume\n",
      "sri24cerebelum6rvolume           right Lobule VI of cerebellar hemisphere volume\n",
      "sri24cerebelum7blvolume         left lobule VIIB of cerebellar hemisphere volume\n",
      "sri24cerebelum7brvolume        right lobule VIIB of cerebellar hemisphere volume\n",
      "sri24cerebelum8lvolume          left lobule VIII of cerebellar hemisphere volume\n",
      "sri24cerebelum8rvolume         right lobule VIII of cerebellar hemisphere volume\n",
      "sri24cerebelum9lvolume            left lobule IX of cerebellar hemisphere volume\n",
      "sri24cerebelum9rvolume           right lobule IX of cerebellar hemisphere volume\n",
      "sri24cerebelum10lvolume        left lobule X of cerebellar hemisphere (floccu...\n",
      "sri24cerebelum10rvolume        right lobule X of cerebellar hemisphere (flocc...\n",
      "sri24vermis1gm                                anterior vermis gray matter volume\n",
      "sri24vermis2gm                               posterior vermis gray matter volume\n",
      "sri24vermis3gm                                inferior vermis gray matter volume\n",
      "sri24cblmhemiwhtlwm               cerebellum hemisphere white matter left volume\n",
      "sri24cblmhemiwhtrwm              cerebellum hemisphere white matter right volume\n",
      "sri24ponswm                                             pons white matter volume\n",
      "sri24corpuscallosumwm                        corpus callosum white matter volume\n",
      "sri24wm400wm400lwm             white matter volume within the left hemisphere...\n",
      "sri24wm400wm400rwm             white matter volume within the right hemispher...\n",
      "sri24vtlslateralvtllcsf        left lateral ventricle cerebral spinal fluid v...\n",
      "sri24vtlslateralvtlrcsf        right lateral ventricle cerebral spinal fluid ...\n",
      "sri24vtlsthirdvtllcsf          left third ventricle cerebral spinal fluid volume\n",
      "sri24vtlsthirdvtlrcsf          right third ventricle cerebral spinal fluid vo...\n",
      "sri24suptentsupratentoriumv                        suptent supratentorium volume\n",
      "collection_title                                                collection_title\n",
      "Name: 0, Length: 131, dtype: object\n"
     ]
    }
   ],
   "source": [
    "print(columns_description)"
   ]
  },
  {
   "cell_type": "code",
   "execution_count": 5,
   "metadata": {
    "collapsed": false
   },
   "outputs": [
    {
     "name": "stdout",
     "output_type": "stream",
     "text": [
      "Number of rows: 7802\n",
      "Number of columns: 131\n"
     ]
    }
   ],
   "source": [
    "print(\"Number of rows: {}\".format(rois_clean.shape[0]))\n",
    "print(\"Number of columns: {}\".format(rois_clean.shape[1]))"
   ]
  },
  {
   "cell_type": "code",
   "execution_count": 6,
   "metadata": {
    "collapsed": false
   },
   "outputs": [
    {
     "data": {
      "text/plain": [
       "3739"
      ]
     },
     "execution_count": 6,
     "metadata": {},
     "output_type": "execute_result"
    }
   ],
   "source": [
    "len(set(labels_train['subject']).intersection(set(rois_clean['subjectkey'])))"
   ]
  },
  {
   "cell_type": "markdown",
   "metadata": {},
   "source": [
    "Now, we found that our labels with residual fluid intelligence scores are a subset of values in a column 'subjectkey'.\n",
    "We are constructing a training set, therefore in the training set we will only consider those entries that also have labels. <br>\n",
    "Furthermore, we are eliminating the following columns: \n",
    "- btsv01_id\n",
    "- interview_date\n",
    "- collection_id\n",
    "- dataset_id\n",
    "- collection_title\n",
    "- src_subject_id (which is the repetition of subjectkey, but with lowercase letters (for some mysterious reason))"
   ]
  },
  {
   "cell_type": "code",
   "execution_count": 7,
   "metadata": {
    "collapsed": false
   },
   "outputs": [],
   "source": [
    "rois_clean = rois_clean.drop(['btsv01_id', 'interview_date', 'collection_id', \\\n",
    "                              'dataset_id', 'collection_title', 'src_subject_id'], axis=1)"
   ]
  },
  {
   "cell_type": "code",
   "execution_count": 8,
   "metadata": {
    "collapsed": false
   },
   "outputs": [],
   "source": [
    "#now we are changing the string values of gender to number\n",
    "gender_to_int = {\n",
    "    'M': 0,\n",
    "    'F': 1\n",
    "}\n",
    "\n",
    "rois_clean['gender'] = rois_clean['gender'].apply(lambda x: gender_to_int[x])\n",
    "# rois_clean = pd.get_dummies(rois_clean, columns=['gender'])\n",
    "#skip gender in this analysis\n",
    "rois_clean = rois_clean.drop(['gender'], axis=1)"
   ]
  },
  {
   "cell_type": "markdown",
   "metadata": {},
   "source": [
    "## Create training and validation dataset "
   ]
  },
  {
   "cell_type": "code",
   "execution_count": 9,
   "metadata": {
    "collapsed": false
   },
   "outputs": [],
   "source": [
    "train_data = rois_clean[rois_clean['subjectkey'].isin(labels_train['subject'])]\n",
    "val_data = rois_clean[rois_clean['subjectkey'].isin(labels_val['subject'])]"
   ]
  },
  {
   "cell_type": "code",
   "execution_count": 10,
   "metadata": {
    "collapsed": false
   },
   "outputs": [],
   "source": [
    "train_data_labels = pd.merge(train_data, labels_train, left_on='subjectkey', right_on='subject').drop(['subject'], axis=1)\n",
    "val_data_labels = pd.merge(val_data, labels_val, left_on='subjectkey', right_on='subject').drop(['subject'], axis=1)"
   ]
  },
  {
   "cell_type": "code",
   "execution_count": 51,
   "metadata": {
    "collapsed": true
   },
   "outputs": [],
   "source": [
    "#load features from the images\n",
    "means_train = pd.read_csv('data/training_data_means.csv', header=None, prefix='m', index_col=0).fillna(0)\n",
    "means_val = pd.read_csv('data/validation_data_means.csv', header=None, prefix='m', index_col=0).fillna(0)\n",
    "std_train = pd.read_csv('data/training_data_stdevs.csv', header=None, prefix='std', index_col=0).fillna(0)\n",
    "std_val = pd.read_csv('data/validation_data_stdevs.csv', header=None, prefix='std', index_col=0).fillna(0)\n",
    "entropy_train = pd.read_csv('data/training_data_entropy.csv', header=None, prefix='e', index_col=0).fillna(0)\n",
    "entropy_val = pd.read_csv('data/validation_data_entropy.csv', header=None, prefix='e', index_col=0).fillna(0)\n",
    "\n",
    "extra_dfs = [means_train, means_val, std_train, std_val, entropy_train, entropy_val]\n",
    "for df in extra_dfs:\n",
    "    df.index.name = 'subjectkey'\n"
   ]
  },
  {
   "cell_type": "code",
   "execution_count": 52,
   "metadata": {
    "collapsed": false
   },
   "outputs": [],
   "source": [
    "train_additional_features = reduce(lambda left,right: pd.merge(left,right,on='subjectkey'), [means_train, std_train, entropy_train])\n",
    "val_additional_features =  reduce(lambda left,right: pd.merge(left,right,on='subjectkey'), [means_val, std_val, entropy_val])"
   ]
  },
  {
   "cell_type": "code",
   "execution_count": 57,
   "metadata": {
    "collapsed": false
   },
   "outputs": [],
   "source": [
    "#here we will construct a matrix only with data - without labels\n",
    "#the first column is identification - it is a string and we want to delete it. Other columns are identified as string,\n",
    "#but we want to convert it to floats and to the matrix\n",
    "\n",
    "def generate_dataset(df_train, df_val, include_additional=True):\n",
    "    #the input is the dataframe with both data and labels in the last column\n",
    "    train_labels = df_train['residual_fluid_intelligence_score'].astype(np.float).values\n",
    "    val_labels = df_val['residual_fluid_intelligence_score'].astype(np.float).values\n",
    "    if include_additional: \n",
    "        train_data = pd.merge(df_train, train_additional_features, on='subjectkey').drop(['subjectkey'], axis=1).values[:,:-1].astype(np.float)\n",
    "        val_data = pd.merge(df_val, val_additional_features, on='subjectkey').drop(['subjectkey'], axis=1).values[:,:-1].astype(np.float)\n",
    "    else:\n",
    "        train_data = df_train.drop(['subjectkey'], axis=1).values[:,:-1].astype(np.float)\n",
    "        val_data = df_val.drop(['subjectkey'], axis=1).values[:,:-1].astype(np.float)\n",
    "    return train_data, train_labels, val_data, val_labels\n",
    "\n",
    "train_data, train_labels, val_data, val_labels = generate_dataset(train_data_labels, val_data_labels, include_additional=False)\n",
    "train_data_extra, train_labels_extra, val_data_extra, val_labels_extra = generate_dataset(train_data_labels, val_data_labels, include_additional=True)"
   ]
  },
  {
   "cell_type": "code",
   "execution_count": 58,
   "metadata": {
    "collapsed": false
   },
   "outputs": [],
   "source": [
    "#now for the final form - train_data/val_data will be our matrices; train_labels, val_labels will be our residuals\n",
    "dataset_columns = train_data_labels.columns \n",
    "#important: the last two columns are now binarized wrt to genders"
   ]
  },
  {
   "cell_type": "code",
   "execution_count": 59,
   "metadata": {
    "collapsed": false
   },
   "outputs": [
    {
     "name": "stdout",
     "output_type": "stream",
     "text": [
      "Index(['subjectkey', 'interview_age', 'sri24precentrallgm',\n",
      "       'sri24precentralrgm', 'sri24frontalsuplgm', 'sri24frontalsuprgm',\n",
      "       'sri24frontalsuporblgm', 'sri24frontalsuporbrgm', 'sri24frontalmidlgm',\n",
      "       'sri24frontalmidrgm',\n",
      "       ...\n",
      "       'sri24ponswm', 'sri24corpuscallosumwm', 'sri24wm400wm400lwm',\n",
      "       'sri24wm400wm400rwm', 'sri24vtlslateralvtllcsf',\n",
      "       'sri24vtlslateralvtlrcsf', 'sri24vtlsthirdvtllcsf',\n",
      "       'sri24vtlsthirdvtlrcsf', 'sri24suptentsupratentoriumv',\n",
      "       'residual_fluid_intelligence_score'],\n",
      "      dtype='object', length=125)\n"
     ]
    }
   ],
   "source": [
    "print(dataset_columns)"
   ]
  },
  {
   "cell_type": "markdown",
   "metadata": {},
   "source": [
    "# Experiment on the initial features"
   ]
  },
  {
   "cell_type": "markdown",
   "metadata": {
    "collapsed": false
   },
   "source": [
    "### Distribution of residual values (what are our labels?)"
   ]
  },
  {
   "cell_type": "code",
   "execution_count": 16,
   "metadata": {
    "collapsed": false
   },
   "outputs": [
    {
     "data": {
      "image/png": "[encoded data removed]",
      "text/plain": [
       "<matplotlib.figure.Figure at 0x1073163c8>"
      ]
     },
     "metadata": {},
     "output_type": "display_data"
    }
   ],
   "source": [
    "plt.hist(train_labels, bins=20)\n",
    "plt.show()"
   ]
  },
  {
   "cell_type": "markdown",
   "metadata": {},
   "source": [
    "### How many Nans we have?"
   ]
  },
  {
   "cell_type": "code",
   "execution_count": 17,
   "metadata": {
    "collapsed": false
   },
   "outputs": [
    {
     "data": {
      "text/plain": [
       "array([ 7293.39,  7716.8 ,  8031.32, ..., 15400.2 , 15799.6 , 16779.8 ])"
      ]
     },
     "execution_count": 17,
     "metadata": {},
     "output_type": "execute_result"
    }
   ],
   "source": [
    "np.unique(train_data[:,90])"
   ]
  },
  {
   "cell_type": "markdown",
   "metadata": {},
   "source": [
    "### PCA"
   ]
  },
  {
   "cell_type": "code",
   "execution_count": 18,
   "metadata": {
    "collapsed": true
   },
   "outputs": [],
   "source": [
    "#first normalize with respect to column\n",
    "def normalize_data(data: np.array, standardize=True):\n",
    "    means = np.mean(data, axis=0)\n",
    "    stds = np.std(data, axis=0)\n",
    "    if not standardize:\n",
    "        return data-means\n",
    "    return (data-means)/stds\n"
   ]
  },
  {
   "cell_type": "code",
   "execution_count": 19,
   "metadata": {
    "collapsed": false
   },
   "outputs": [],
   "source": [
    "train_norm_data = normalize_data(train_data)\n",
    "val_norm_data = normalize_data(val_data)"
   ]
  },
  {
   "cell_type": "code",
   "execution_count": 20,
   "metadata": {
    "collapsed": false
   },
   "outputs": [
    {
     "name": "stdout",
     "output_type": "stream",
     "text": [
      "For 2 components, the explained variance by them is : 0.152\n",
      "For 3 components, the explained variance by them is : 0.191\n",
      "For 4 components, the explained variance by them is : 0.225\n",
      "For 5 components, the explained variance by them is : 0.254\n",
      "For 6 components, the explained variance by them is : 0.281\n",
      "For 7 components, the explained variance by them is : 0.305\n",
      "For 8 components, the explained variance by them is : 0.327\n",
      "For 9 components, the explained variance by them is : 0.347\n",
      "For 10 components, the explained variance by them is : 0.365\n",
      "**********\n",
      "The 0.8 variance ratio is explained by 57 components \n",
      "The 0.85 variance ratio is explained by 66 components \n",
      "The 0.9 variance ratio is explained by 78 components \n",
      "The 0.95 variance ratio is explained by 92 components \n"
     ]
    }
   ],
   "source": [
    "n_components = [2,3,4,5,6,7,8,9,10]\n",
    "for n in n_components:\n",
    "    curr_pca = PCA(n_components=n)\n",
    "    curr_pca.fit_transform(train_norm_data)\n",
    "    print(\"For {} components, the explained variance by them is : {:.3f}\".format(n, np.sum(curr_pca.explained_variance_ratio_)))\n",
    "\n",
    "print(\"*\"*10)\n",
    "explained_variance = [0.8, 0.85, 0.9, 0.95]\n",
    "for target_variance in explained_variance:\n",
    "    curr_pca = PCA(n_components=target_variance)\n",
    "    curr_pca.fit_transform(train_norm_data)\n",
    "    print(\"The {} variance ratio is explained by {} components \".format(target_variance, np.sum(curr_pca.n_components_)))\n"
   ]
  },
  {
   "cell_type": "markdown",
   "metadata": {},
   "source": [
    "### Covariance matrix of features"
   ]
  },
  {
   "cell_type": "code",
   "execution_count": 21,
   "metadata": {
    "collapsed": false
   },
   "outputs": [
    {
     "data": {
      "image/png": "[encoded data removed]",
      "text/plain": [
       "<matplotlib.figure.Figure at 0x128f7d438>"
      ]
     },
     "metadata": {},
     "output_type": "display_data"
    }
   ],
   "source": [
    "def compute_covariance(matrix):\n",
    "    return matrix.T.dot(matrix)/matrix.shape[0]\n",
    "\n",
    "cov_matrix = compute_covariance(train_norm_data)\n",
    "fig, ax = plt.subplots(figsize=(10,10))\n",
    "im = ax.matshow(cov_matrix, interpolation='none')\n",
    "fig.colorbar(im, ticks=[-1,-0.8,-0.6,-0.4,-0.2,0.0,0.2,0.4,0.6,0.8,1.0])\n",
    "plt.show()"
   ]
  },
  {
   "cell_type": "code",
   "execution_count": 22,
   "metadata": {
    "collapsed": false
   },
   "outputs": [],
   "source": [
    "def get_eigenvalues(data, n_comps, standardize=True):\n",
    "    normalized_data = normalize_data(data, standardize)\n",
    "    cov_matrix = compute_covariance(normalized_data)\n",
    "    pca = PCA(n_comps)\n",
    "    pca.fit_transform(normalized_data)\n",
    "    eigenvectors = pca.components_\n",
    "    eigenvalues = []\n",
    "    for ev in eigenvectors:\n",
    "        eigenvalues.append(np.dot(ev.T, np.dot(cov_matrix, ev)))\n",
    "    print(pca.explained_variance_)\n",
    "    return eigenvalues"
   ]
  },
  {
   "cell_type": "code",
   "execution_count": 23,
   "metadata": {
    "collapsed": false
   },
   "outputs": [
    {
     "name": "stdout",
     "output_type": "stream",
     "text": [
      "[11.33334393  7.37416556  4.77442186]\n"
     ]
    },
    {
     "data": {
      "text/plain": [
       "[11.330312816056354, 7.372193328169707, 4.773146849617659]"
      ]
     },
     "execution_count": 23,
     "metadata": {},
     "output_type": "execute_result"
    }
   ],
   "source": [
    "get_eigenvalues(train_data, 3)"
   ]
  },
  {
   "cell_type": "markdown",
   "metadata": {},
   "source": [
    "### Evaluating feature importance\n",
    "http://jotterbach.github.io/2016/03/24/Principal_Component_Analysis/"
   ]
  },
  {
   "cell_type": "code",
   "execution_count": 24,
   "metadata": {
    "collapsed": false
   },
   "outputs": [
    {
     "name": "stderr",
     "output_type": "stream",
     "text": [
      "/Users/admin/anaconda/lib/python3.5/site-packages/ipykernel/__main__.py:4: RuntimeWarning: invalid value encountered in log\n"
     ]
    },
    {
     "data": {
      "text/plain": [
       "<matplotlib.axes._subplots.AxesSubplot at 0x10f536240>"
      ]
     },
     "execution_count": 24,
     "metadata": {},
     "output_type": "execute_result"
    },
    {
     "data": {
      "image/png": "[encoded data removed]",
      "text/plain": [
       "<matplotlib.figure.Figure at 0x128f60a58>"
      ]
     },
     "metadata": {},
     "output_type": "display_data"
    }
   ],
   "source": [
    "inv_pca = PCA()\n",
    "pca_data = inv_pca.fit_transform(train_norm_data)\n",
    "\n",
    "feature_importance = np.nan_to_num(np.log(inv_pca.inverse_transform(np.eye(train_norm_data.shape[1]))))\n",
    "\n",
    "sns.heatmap(feature_importance, cmap=\"hot\", cbar=True)"
   ]
  },
  {
   "cell_type": "code",
   "execution_count": 25,
   "metadata": {
    "collapsed": false
   },
   "outputs": [
    {
     "data": {
      "image/png": "[encoded data removed]",
      "text/plain": [
       "<matplotlib.figure.Figure at 0x128f89c18>"
      ]
     },
     "metadata": {},
     "output_type": "display_data"
    },
    {
     "data": {
      "image/png": "[encoded data removed]",
      "text/plain": [
       "<matplotlib.figure.Figure at 0x107381cf8>"
      ]
     },
     "metadata": {},
     "output_type": "display_data"
    }
   ],
   "source": [
    "means = np.mean(pca_data, axis=0)/np.sum(np.mean(pca_data, axis=0))\n",
    "variances = np.var(pca_data, axis=0)/np.sum(np.var(pca_data, axis=0))\n",
    "xs = [x for x in range(train_norm_data.shape[1])]\n",
    "mean_threshold = [0.2 for x in xs]\n",
    "variance_threshold = [0.02 for x in xs]\n",
    "plt.plot(xs, means)\n",
    "plt.plot(xs, mean_threshold)\n",
    "plt.show()\n",
    "\n",
    "plt.plot(xs, variances)\n",
    "plt.plot(xs, variance_threshold)\n",
    "plt.show()"
   ]
  },
  {
   "cell_type": "markdown",
   "metadata": {},
   "source": [
    "## SVM with all features and with carefully selected features"
   ]
  },
  {
   "cell_type": "code",
   "execution_count": 26,
   "metadata": {
    "collapsed": false
   },
   "outputs": [],
   "source": [
    "from sklearn.utils.class_weight import compute_sample_weight\n",
    "\n",
    "def mse(real, pred):\n",
    "    return np.mean(np.square(real-pred))\n",
    "\n",
    "\n",
    "weights = compute_sample_weight('balanced', train_labels)\n"
   ]
  },
  {
   "cell_type": "code",
   "execution_count": 27,
   "metadata": {
    "collapsed": false
   },
   "outputs": [
    {
     "name": "stdout",
     "output_type": "stream",
     "text": [
      "73.37395659208056\n",
      "-0.025847163151464292\n"
     ]
    }
   ],
   "source": [
    "svr = SVR()\n",
    "svr.fit(train_norm_data, train_labels, sample_weight=weights)\n",
    "\n",
    "preds = svr.predict(normalize_data(val_data))\n",
    "print(mse(preds, val_labels)) #all original features \n",
    "print(svr.score(normalize_data(val_data), val_labels))"
   ]
  },
  {
   "cell_type": "code",
   "execution_count": 28,
   "metadata": {
    "collapsed": false
   },
   "outputs": [
    {
     "data": {
      "text/plain": [
       "147.8210903212774"
      ]
     },
     "execution_count": 28,
     "metadata": {},
     "output_type": "execute_result"
    }
   ],
   "source": [
    "#random baseline\n",
    "random_labels = np.random.normal(np.mean(train_labels), np.std(train_labels), len(val_labels))\n",
    "mse(random_labels, val_labels)"
   ]
  },
  {
   "cell_type": "code",
   "execution_count": 29,
   "metadata": {
    "collapsed": false
   },
   "outputs": [
    {
     "data": {
      "text/plain": [
       "71.83710478844851"
      ]
     },
     "execution_count": 29,
     "metadata": {},
     "output_type": "execute_result"
    }
   ],
   "source": [
    "#majority baseline\n",
    "majority_labels = [np.mean(train_labels) for x in range(len(val_labels))]\n",
    "mse(majority_labels, val_labels)"
   ]
  },
  {
   "cell_type": "markdown",
   "metadata": {},
   "source": [
    "#### Choosing features above the thresholds"
   ]
  },
  {
   "cell_type": "code",
   "execution_count": 30,
   "metadata": {
    "collapsed": false
   },
   "outputs": [
    {
     "name": "stdout",
     "output_type": "stream",
     "text": [
      "50\n"
     ]
    }
   ],
   "source": [
    "#choose features above the thresholds\n",
    "mean_based_features = np.where(means >= mean_threshold)[0]\n",
    "variance_based_features = np.where(variances >= variance_threshold)[0]\n",
    "# chosen_features = np.array(list(set(mean_based_features).union(set(variance_based_features))))\n",
    "chosen_features = np.array([x for x in range(70, 120)])\n",
    "print(len(chosen_features))"
   ]
  },
  {
   "cell_type": "code",
   "execution_count": 31,
   "metadata": {
    "collapsed": false
   },
   "outputs": [
    {
     "name": "stdout",
     "output_type": "stream",
     "text": [
      "72.68810780716284\n",
      "-0.01625825636441136\n"
     ]
    }
   ],
   "source": [
    "svr.fit(train_norm_data[:, chosen_features], train_labels)\n",
    "preds_chosen = svr.predict(normalize_data(val_data)[:, chosen_features])\n",
    "print(mse(preds_chosen, val_labels))\n",
    "print(svr.score(normalize_data(val_data)[:, chosen_features], val_labels))"
   ]
  },
  {
   "cell_type": "code",
   "execution_count": 32,
   "metadata": {
    "collapsed": false
   },
   "outputs": [],
   "source": [
    "# !pip install xgboost"
   ]
  },
  {
   "cell_type": "code",
   "execution_count": 33,
   "metadata": {
    "collapsed": false
   },
   "outputs": [
    {
     "name": "stdout",
     "output_type": "stream",
     "text": [
      "71.4404244500454\n",
      "0.0011857045702015068\n"
     ]
    }
   ],
   "source": [
    "from sklearn.ensemble import RandomForestRegressor\n",
    "forest_regressor = RandomForestRegressor(100)\n",
    "forest_regressor.fit(train_norm_data, train_labels, sample_weight=weights)\n",
    "forest_preds = forest_regressor.predict(normalize_data(val_data))\n",
    "print(mse(forest_preds, val_labels))\n",
    "print(forest_regressor.score(normalize_data(val_data), val_labels))"
   ]
  },
  {
   "cell_type": "markdown",
   "metadata": {},
   "source": [
    "### Generating the frontal ratios and using them as additional features"
   ]
  },
  {
   "cell_type": "code",
   "execution_count": 34,
   "metadata": {
    "collapsed": false
   },
   "outputs": [],
   "source": [
    "is_frontal = np.array([x-1 for x in range(len(dataset_columns)) if 'frontal' in dataset_columns[x]])\n",
    "is_suptent = np.array([x-1 for x in range(len(dataset_columns)) if 'supratentorium' in dataset_columns[x]])\n",
    "#1 detect frontal\n",
    "#2 dodać objętości frontala -> wspolczynnik frontal w calym mozgu"
   ]
  },
  {
   "cell_type": "code",
   "execution_count": 35,
   "metadata": {
    "collapsed": false
   },
   "outputs": [],
   "source": [
    "structures_to_delete = ['thalamus', 'caudate', 'putamen', 'pallidum', 'volume', 'wm', 'supratentorium', 'csf']\n",
    "\n",
    "cortex_indices = []\n",
    "\n",
    "for i,column in enumerate(dataset_columns):\n",
    "    curr_deletes = []\n",
    "    for name in structures_to_delete: \n",
    "        if name in column:\n",
    "            curr_deletes.append(name)\n",
    "    if len(curr_deletes)==0 and i-1>=0:\n",
    "        cortex_indices.append(i-1)\n",
    "\n",
    "cortex_indices = np.array(cortex_indices)\n",
    "cortex_indices = cortex_indices[cortex_indices < 123]\n",
    "\n",
    "def generate_frontal_ratio(frontal_inds, reference_inds, data):\n",
    "    coefs = []\n",
    "    for observation in data:\n",
    "        frontal_volume = np.sum(observation[frontal_inds])\n",
    "        reference_volume = np.sum(observation[reference_inds])\n",
    "        coefs.append(frontal_volume/reference_volume)\n",
    "    return coefs\n",
    "\n",
    "frontal_coef = normalize_data(generate_frontal_ratio(is_frontal, is_suptent, train_data)).reshape(-1,1)\n",
    "frontal_coef2 = normalize_data(generate_frontal_ratio(is_frontal, cortex_indices, train_data)).reshape(-1,1)\n",
    "frontal_coef_val = generate_frontal_ratio(is_frontal, is_suptent, val_data)\n",
    "frontal_coef2_val = generate_frontal_ratio(is_frontal, cortex_indices, val_data)"
   ]
  },
  {
   "cell_type": "code",
   "execution_count": 36,
   "metadata": {
    "collapsed": false
   },
   "outputs": [],
   "source": [
    "frontal_coef_val = normalize_data(frontal_coef_val).reshape(-1,1)\n",
    "frontal_coef2_val = normalize_data(frontal_coef2_val).reshape(-1,1)\n"
   ]
  },
  {
   "cell_type": "code",
   "execution_count": 37,
   "metadata": {
    "collapsed": false
   },
   "outputs": [
    {
     "name": "stdout",
     "output_type": "stream",
     "text": [
      "71.6711670318626\n"
     ]
    }
   ],
   "source": [
    "train_norm_data_extra = np.append(train_norm_data, np.hstack((frontal_coef, frontal_coef2)), axis=1)[:,110:]\n",
    "val_norm_data_extra = np.append(val_norm_data, np.hstack((frontal_coef_val, frontal_coef2_val)), axis=1)[:,110:]\n",
    "svr.fit(train_norm_data_extra, train_labels, sample_weight=weights)\n",
    "preds_with_adds = svr.predict(val_norm_data_extra) #only ratios\n",
    "print(mse(preds_with_adds, val_labels))\n"
   ]
  },
  {
   "cell_type": "markdown",
   "metadata": {},
   "source": [
    "# Experiments with augmented feature space"
   ]
  },
  {
   "cell_type": "code",
   "execution_count": 60,
   "metadata": {
    "collapsed": false
   },
   "outputs": [
    {
     "name": "stderr",
     "output_type": "stream",
     "text": [
      "/Users/admin/anaconda/lib/python3.5/site-packages/ipykernel/__main__.py:7: RuntimeWarning: invalid value encountered in true_divide\n"
     ]
    },
    {
     "name": "stdout",
     "output_type": "stream",
     "text": [
      "36.39201329722988\n"
     ]
    }
   ],
   "source": [
    "train_norm_data_e = np.nan_to_num(normalize_data(train_data_extra))\n",
    "val_norm_data_e = np.nan_to_num(normalize_data(val_data_extra))\n",
    "\n",
    "svr.fit(train_norm_data_e, train_labels_extra)\n",
    "preds_extra = svr.predict(val_norm_data_e)\n",
    "print(mse(preds_extra, val_labels_extra))"
   ]
  },
  {
   "cell_type": "code",
   "execution_count": 63,
   "metadata": {
    "collapsed": false
   },
   "outputs": [
    {
     "data": {
      "text/plain": [
       "(-30, 30)"
      ]
     },
     "execution_count": 63,
     "metadata": {},
     "output_type": "execute_result"
    },
    {
     "data": {
      "image/png": "[encoded data removed]",
      "text/plain": [
       "<matplotlib.figure.Figure at 0x13a3203c8>"
      ]
     },
     "metadata": {},
     "output_type": "display_data"
    }
   ],
   "source": [
    "plt.scatter(preds_extra, val_labels)\n",
    "plt.xlim(-30,30)"
   ]
  },
  {
   "cell_type": "code",
   "execution_count": 75,
   "metadata": {
    "collapsed": false
   },
   "outputs": [
    {
     "name": "stdout",
     "output_type": "stream",
     "text": [
      "26.716778545758967\n"
     ]
    }
   ],
   "source": [
    "train_norm_data_extra = np.append(train_norm_data_e, np.hstack((frontal_coef, frontal_coef2)), axis=1)[:,92:]\n",
    "val_norm_data_extra = np.append(val_norm_data_e, np.hstack((frontal_coef_val, frontal_coef2_val)), axis=1)[:,92:]\n",
    "svr.fit(train_norm_data_extra, train_labels, sample_weight=weights)\n",
    "preds_with_adds = svr.predict(val_norm_data_extra) #only ratios\n",
    "print(mse(preds_with_adds, val_labels))\n"
   ]
  },
  {
   "cell_type": "code",
   "execution_count": 69,
   "metadata": {
    "collapsed": false
   },
   "outputs": [
    {
     "data": {
      "text/plain": [
       "(415, 530)"
      ]
     },
     "execution_count": 69,
     "metadata": {},
     "output_type": "execute_result"
    }
   ],
   "source": [
    "val_norm_data_extra.shape"
   ]
  },
  {
   "cell_type": "code",
   "execution_count": null,
   "metadata": {
    "collapsed": false
   },
   "outputs": [],
   "source": []
  },
  {
   "cell_type": "code",
   "execution_count": null,
   "metadata": {
    "collapsed": false
   },
   "outputs": [],
   "source": []
  },
  {
   "cell_type": "code",
   "execution_count": 93,
   "metadata": {
    "collapsed": false
   },
   "outputs": [],
   "source": [
    "prefrontal_list = pd.read_csv('data/prefrontal_list.csv', header=None)\n",
    "prefrontal_ids = [list(dataset_columns).index(x)-1 for x in list(prefrontal_list.values[0])]\n",
    "for x in range(123,train_norm_data_extra.shape[1]):\n",
    "    prefrontal_ids.append(x)\n",
    "    \n",
    "prefrontal_ids = np.array(prefrontal_ids)"
   ]
  },
  {
   "cell_type": "code",
   "execution_count": 94,
   "metadata": {
    "collapsed": false
   },
   "outputs": [
    {
     "name": "stdout",
     "output_type": "stream",
     "text": [
      "73.03333428754988\n"
     ]
    }
   ],
   "source": [
    "train_norm_data_extra = np.append(train_norm_data_e, np.hstack((frontal_coef, frontal_coef2)), axis=1)[:,prefrontal_ids]\n",
    "val_norm_data_extra = np.append(val_norm_data_e, np.hstack((frontal_coef_val, frontal_coef2_val)), axis=1)[:,prefrontal_ids]\n",
    "svr.fit(train_norm_data_extra, train_labels, sample_weight=weights)\n",
    "preds_with_adds = svr.predict(val_norm_data_extra) #only ratios\n",
    "print(mse(preds_with_adds, val_labels))\n"
   ]
  },
  {
   "cell_type": "code",
   "execution_count": 95,
   "metadata": {
    "collapsed": false
   },
   "outputs": [
    {
     "data": {
      "text/plain": [
       "array([ 3,  4,  5,  6,  7,  8,  9, 10, 11, 12, 13, 14, 15, 16, 25, 26, 31,\n",
       "       32, 33, 34])"
      ]
     },
     "execution_count": 95,
     "metadata": {},
     "output_type": "execute_result"
    }
   ],
   "source": [
    "prefrontal_ids"
   ]
  },
  {
   "cell_type": "code",
   "execution_count": 92,
   "metadata": {
    "collapsed": false
   },
   "outputs": [
    {
     "data": {
      "text/plain": [
       "3739"
      ]
     },
     "execution_count": 92,
     "metadata": {},
     "output_type": "execute_result"
    }
   ],
   "source": []
  },
  {
   "cell_type": "code",
   "execution_count": null,
   "metadata": {
    "collapsed": true
   },
   "outputs": [],
   "source": []
  }
 ],
 "metadata": {
  "kernelspec": {
   "display_name": "Python [Root]",
   "language": "python",
   "name": "Python [Root]"
  },
  "language_info": {
   "codemirror_mode": {
    "name": "ipython",
    "version": 3
   },
   "file_extension": ".py",
   "mimetype": "text/x-python",
   "name": "python",
   "nbconvert_exporter": "python",
   "pygments_lexer": "ipython3",
   "version": "3.5.2"
  }
 },
 "nbformat": 4,
 "nbformat_minor": 0
}
